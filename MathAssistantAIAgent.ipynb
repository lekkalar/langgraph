{
 "cells": [
  {
   "cell_type": "code",
   "execution_count": 1,
   "id": "be9490d7-ec97-4a1d-a71e-5ffbf9764957",
   "metadata": {},
   "outputs": [
    {
     "name": "stdout",
     "output_type": "stream",
     "text": [
      "Requirement already satisfied: sniffio>=1.1 in /opt/conda/lib/python3.12/site-packages (from anyio->httpx<1,>=0.23.0->langsmith<0.4,>=0.1.17->langchain==0.3.23) (1.3.1)\n",
      "Note: you may need to restart the kernel to use updated packages.\n",
      "Requirement already satisfied: sniffio>=1.1 in /opt/conda/lib/python3.12/site-packages (from anyio->httpx<0.29,>=0.27->ibm-watsonx-ai<2.0.0,>=1.2.10->langchain-ibm==0.3.10) (1.3.1)\n",
      "Note: you may need to restart the kernel to use updated packages.\n",
      "Requirement already satisfied: sniffio>=1.1 in /opt/conda/lib/python3.12/site-packages (from anyio->httpx<1,>=0.23.0->langsmith<0.4,>=0.1.125->langchain-community==0.3.16) (1.3.1)\n",
      "Note: you may need to restart the kernel to use updated packages.\n",
      "Requirement already satisfied: soupsieve>1.2 in /opt/conda/lib/python3.12/site-packages (from beautifulsoup4->wikipedia==1.4.0) (2.5)\n",
      "Note: you may need to restart the kernel to use updated packages.\n",
      "Requirement already satisfied: pydantic-core==2.27.2 in /opt/conda/lib/python3.12/site-packages (from pydantic<3,>=1.9.0->openai==1.77.0) (2.27.2)\n",
      "Note: you may need to restart the kernel to use updated packages.\n",
      "Requirement already satisfied: urllib3<3,>=1.21.1 in /opt/conda/lib/python3.12/site-packages (from requests>=2.26.0->tiktoken<1,>=0.7->langchain-openai==0.3.16) (2.5.0)\n",
      "Note: you may need to restart the kernel to use updated packages.\n",
      "Requirement already satisfied: sniffio>=1.1 in /opt/conda/lib/python3.12/site-packages (from anyio->httpx>=0.25.2->langgraph-sdk<0.3.0,>=0.2.0->langgraph==0.6.1) (1.3.1)\n",
      "Note: you may need to restart the kernel to use updated packages.\n"
     ]
    }
   ],
   "source": [
    "%pip install langchain==0.3.23 | tail -n 1 \n",
    "%pip install langchain-ibm==0.3.10 | tail -n 1 \n",
    "%pip install langchain-community==0.3.16 | tail -n 1 \n",
    "%pip install wikipedia==1.4.0 | tail -n 1\n",
    "%pip install openai==1.77.0 | tail -n 1\n",
    "%pip install langchain-openai==0.3.16 | tail -n 1\n",
    "%pip install langgraph==0.6.1 | tail -n 1"
   ]
  },
  {
   "cell_type": "code",
   "execution_count": 1,
   "id": "384fd03f-abd3-4682-8bba-5e0b17a80205",
   "metadata": {},
   "outputs": [],
   "source": [
    "from langchain_ibm import ChatWatsonx\n",
    "from langchain.agents import AgentType\n"
   ]
  },
  {
   "cell_type": "code",
   "execution_count": 2,
   "id": "c37d7e63-4796-4acb-a9a1-c97808f2cb01",
   "metadata": {},
   "outputs": [],
   "source": [
    "llm = ChatWatsonx(\n",
    "    model_id=\"ibm/granite-3-2-8b-instruct\",\n",
    "    url=\"https://us-south.ml.cloud.ibm.com\",\n",
    "    project_id=\"skills-network\",\n",
    ")"
   ]
  },
  {
   "cell_type": "code",
   "execution_count": 3,
   "id": "a2e0d495-3ee8-4d49-b639-a9eda2a67fa8",
   "metadata": {},
   "outputs": [
    {
     "name": "stdout",
     "output_type": "stream",
     "text": [
      "\n",
      "Response Content:  Both LangChain and LangGraph are interesting concepts in AI but they serve quite different purposes and are at different stages of development.\n",
      "\n",
      "1. **LangChain**: This is a relatively new concept, introduced by researchers at Microsoft. It's a framework for building generalist, few-shot learning agents. It's designed to understand and execute instructions in a natural language, demonstrating a mix of multiple skills. It's still in the research phase and not yet widely available or production-ready. \n",
      "\n",
      "2. **LangGraph**: This isn't a common AI framework that I'm aware of. It could potentially be a typo or a lesser-known system. If it's mistyped, it might be referring to concepts like \"Graph Neural Networks\" which are a type of neural network designed to perform well on graph-structured data. If it's a specific AI system or framework, more information would be needed for a precise response.\n",
      "\n",
      "Currently, if you're looking to build AI agents, more established and well-documented frameworks exist, such as:\n",
      "\n",
      "- **Rasa**: This is an open-source machine learning framework for building AI assistants and chatbots.\n",
      "- **Dialogflow (by Google)**: A powerful conversational AI platform that uses natural language understanding (NLU) to reply to users in the most natural and helpful way.\n",
      "- **Microsoft Bot Framework**: A comprehensive offering that you can use to build and deploy high-quality bots for your users to enjoy wherever they are talking.\n",
      "- **AIML (Artificial Intelligence Markup Language)**: A XML-based language mainly used for creating AI chatbots.\n",
      "\n",
      "Remember, the choice of framework depends heavily on your project's specific requirements, the skills of your team, and the resources available to you. If you're working on cutting-edge research in few-shot learning or general AIassistants, LangChain could be an interesting avenue to explore, though it's currently less mature compared to these other options.\n"
     ]
    }
   ],
   "source": [
    "response = llm.invoke(\"What framework do you recommend for building AI Agents - LangChain or LangGraph?\")\n",
    "print(\"\\nResponse Content: \", response.content)"
   ]
  },
  {
   "cell_type": "code",
   "execution_count": 4,
   "id": "c9548649-7ce8-4772-8347-e19b65b72e93",
   "metadata": {},
   "outputs": [],
   "source": [
    "from langgraph.prebuilt import create_react_agent"
   ]
  },
  {
   "cell_type": "code",
   "execution_count": 5,
   "id": "19a1091b-5d1c-44b8-9170-2654dbcfe949",
   "metadata": {},
   "outputs": [],
   "source": [
    "from langchain_core.tools import tool\n",
    "import re"
   ]
  },
  {
   "cell_type": "code",
   "execution_count": 6,
   "id": "a39a202f-8c7b-46a6-ae9c-92b2e1204022",
   "metadata": {},
   "outputs": [],
   "source": [
    "@tool\n",
    "def sum_numbers_from_text(inputs: str) -> float:\n",
    "    \"\"\"\n",
    "    Adds a list of numbers provided in the input string.\n",
    "    \n",
    "    Args:\n",
    "        text: A string containing numbers that should be extracted and summed.\n",
    "        \n",
    "    Returns:\n",
    "        The sum of all numbers found in the input.\n",
    "    \"\"\"\n",
    "    # Use regular expressions to extract all numbers from the input\n",
    "    numbers = [int(num) for num in re.findall(r'\\d+', inputs)]\n",
    "    result = sum(numbers)\n",
    "    return result"
   ]
  },
  {
   "cell_type": "code",
   "execution_count": 7,
   "id": "95b1cf23-409b-425d-9bef-a80c0e482aa8",
   "metadata": {},
   "outputs": [
    {
     "name": "stdout",
     "output_type": "stream",
     "text": [
      "Name: \n",
      " sum_numbers_from_text\n",
      "Description: \n",
      " Adds a list of numbers provided in the input string.\n",
      "\n",
      "Args:\n",
      "    text: A string containing numbers that should be extracted and summed.\n",
      "\n",
      "Returns:\n",
      "    The sum of all numbers found in the input.\n",
      "Args: \n",
      " {'inputs': {'title': 'Inputs', 'type': 'string'}}\n"
     ]
    }
   ],
   "source": [
    "print(\"Name: \\n\", sum_numbers_from_text.name)\n",
    "print(\"Description: \\n\", sum_numbers_from_text.description) \n",
    "print(\"Args: \\n\", sum_numbers_from_text.args) "
   ]
  },
  {
   "cell_type": "code",
   "execution_count": 8,
   "id": "0803ef16-d49b-4470-a00c-00b8729c6dc6",
   "metadata": {},
   "outputs": [],
   "source": [
    "agent_exec = create_react_agent(model=llm, tools=[sum_numbers_from_text])\n",
    "msgs = agent_exec.invoke({\"messages\": [(\"human\", \"Add the numbers 10, 20, 30\")]})"
   ]
  },
  {
   "cell_type": "code",
   "execution_count": 9,
   "id": "c728d68f-1b7c-4610-89f2-d6a197e7b7e6",
   "metadata": {},
   "outputs": [
    {
     "name": "stdout",
     "output_type": "stream",
     "text": [
      "The sum of the numbers 10, 20, and 30 is 60.\n"
     ]
    }
   ],
   "source": [
    "print(msgs[\"messages\"][-1].content)"
   ]
  },
  {
   "cell_type": "code",
   "execution_count": 10,
   "id": "e32f1b2a-136e-45ff-a710-1704cf944c8e",
   "metadata": {},
   "outputs": [],
   "source": [
    "from langchain_community.utilities import WikipediaAPIWrapper\n",
    "\n",
    "# Create a Wikipedia tool using the @tool decorator\n",
    "@tool\n",
    "def search_wikipedia(query: str) -> str:\n",
    "    \"\"\"Search Wikipedia for factual information about a topic.\n",
    "    \n",
    "    Parameters:\n",
    "    - query (str): The topic or question to search for on Wikipedia\n",
    "    \n",
    "    Returns:\n",
    "    - str: A summary of relevant information from Wikipedia\n",
    "    \"\"\"\n",
    "    wiki = WikipediaAPIWrapper()\n",
    "    return wiki.run(query)"
   ]
  },
  {
   "cell_type": "code",
   "execution_count": 11,
   "id": "6709cb7b-1c73-4fd8-8b4b-2fc93124fcf1",
   "metadata": {},
   "outputs": [
    {
     "data": {
      "text/plain": [
       "'Page: Demographics of Papua New Guinea\\nSummary: The indigenous population of Papua New Guinea is one of the most heterogeneous in the world. Papua New Guinea has several thousand separate communities, most with only a few hundred people. Divided by language, customs, and tradition, some of these communities have engaged in endemic warfare with their neighbors for centuries. It is the second most populous nation in Oceania, with a total population estimated variously as being between 9.5 and 10.1 million inhabitants.\\n\\nThe isolation created by the mountainous terrain is so great that some groups, until recently, were unaware of the existence of neighboring groups only a few kilometers away. The diversity, reflected in a folk saying, \"For each village, a different culture\", is perhaps best shown in the local languages. The island of New Guinea contains about 850 languages. The languages that are neither Austronesian nor Australian are considered Papuan languages; this is a geographical rather than linguistic demarcation. Of the Papuan languages, the largest linguistic grouping is considered to be Trans-New Guinean, with between 300 and 500 languages likely belonging to the group in addition to a huge variety of dialects. The remainder of the Papuan languages belong to smaller, unrelated groupings as well as to isolates. Native languages are spoken by a few hundred to a few thousand, although the Enga language, used in Enga Province, is spoken by some 130,000 people.\\nTok Pisin serves as the lingua franca. English is the language of business and government, and all schooling from Grade 2 Primary is in English.\\nThe overall population density is low, although pockets of overpopulation exist. Papua New Guinea\\'s Western Province averages one person per square kilometer (3 per sq. mi.). The Simbu Province in the New Guinea highlands averages 20 persons per square kilometer (52 persons/sq mi) and has areas containing up to 200 people farming a square kilometer of land. The highlands have 40% of the population.\\nA considerable urban drift towards Port Moresby and other major centers has occurred in recent years. Between 1978 and 1988, Port Moresby grew nearly 8% per year, Lae 6%, Mount Hagen 6.5%, Goroka 4%, and Madang 3%. The trend toward urbanization accelerated in the 1990s, bringing in its wake squatter settlements, unemployment, and attendant social problems. Almost two-thirds of the population is Christian. Of these, more than 700,000 are Roman Catholic, more than 500,000 Lutheran, and the balance are members of other Protestant denominations. Although the major churches are under indigenous leadership, a large number of missionaries remain in the country. The non-Christian portion of the indigenous population practices a wide variety of indigenous religions that are an integral part of traditional culture. These religions are mainly types of animism and veneration of the dead.\\nThe World Bank estimates the number of international migrants in Papua New Guinea to be about 0.3% of the population. According to the 2000 and 2011 census, the most common places of origin for international migrants were the United States, Australia, the Philippines, and Indonesia. Since independence, about 900 foreigners have become naturalized citizens as of August 1999. An estimated 20,000 Chinese people live in Papua New Guinea.\\nThe traditional Papua New Guinea social structure includes the following characteristics:\\n\\nThe practice of subsistence economy;\\nRecognition of bonds of kinship with obligations extending beyond the immediate family group;\\nGenerally egalitarian relationships with an emphasis on acquired, rather than inherited, status; and\\nA strong attachment of the people to land.\\nMost Papua New Guineans still adhere strongly to this traditional social structure, which has its roots in village life.\\n\\n\\n\\nPage: Papua New Guinea\\nSummary: Papua New Guinea (PNG), officially the Independent State of Papua New Guinea, is an island country in Oceania that c'"
      ]
     },
     "execution_count": 11,
     "metadata": {},
     "output_type": "execute_result"
    }
   ],
   "source": [
    "search_wikipedia.invoke(\"What is the population of Papua New Guinea?\")"
   ]
  },
  {
   "cell_type": "code",
   "execution_count": 12,
   "id": "02cc10ef-bb8c-461d-a3f2-821edbc82a26",
   "metadata": {},
   "outputs": [],
   "source": [
    "# Update your tools list to include the Wikipedia tool\n",
    "tools_updated = [sum_numbers_from_text, search_wikipedia]\n",
    "\n",
    "# Create the agent with all tools including Wikipedia\n",
    "math_agent_updated = create_react_agent(\n",
    "    model=llm,\n",
    "    tools=tools_updated,\n",
    "    prompt=\"You are a helpful assistant that can perform various mathematical operations and look up information. Use the tools precisely and explain your reasoning clearly.\"\n",
    ")"
   ]
  },
  {
   "cell_type": "code",
   "execution_count": 13,
   "id": "06458160-afc8-491e-b6b2-167f7ee46677",
   "metadata": {},
   "outputs": [
    {
     "name": "stdout",
     "output_type": "stream",
     "text": [
      "\n",
      "Message sequence:\n",
      "\n",
      "--- Message 1 ---\n",
      "Type: HumanMessage\n",
      "Content: What is the population of Papua New Guinea? Add another million to it\n",
      "Name: None\n",
      "\n",
      "--- Message 2 ---\n",
      "Type: AIMessage\n",
      "Content: \n",
      "Name: None\n",
      "Tool calls: [{'name': 'search_wikipedia', 'args': {'query': 'Population of Papua New Guinea'}, 'id': 'chatcmpl-tool-6a2724906a4d479cbf6c6499cc86f944', 'type': 'tool_call'}]\n",
      "\n",
      "--- Message 3 ---\n",
      "Type: ToolMessage\n",
      "Content: Page: Demographics of Papua New Guinea\n",
      "Summary: The indigenous population of Papua New Guinea is one of the most heterogeneous in the world. Papua New Guinea has several thousand separate communities, most with only a few hundred people. Divided by language, customs, and tradition, some of these communities have engaged in endemic warfare with their neighbors for centuries. It is the second most populous nation in Oceania, with a total population estimated variously as being between 9.5 and 10.1 million inhabitants.\n",
      "\n",
      "The isolation created by the mountainous terrain is so great that some groups, until recently, were unaware of the existence of neighboring groups only a few kilometers away. The diversity, reflected in a folk saying, \"For each village, a different culture\", is perhaps best shown in the local languages. The island of New Guinea contains about 850 languages. The languages that are neither Austronesian nor Australian are considered Papuan languages; this is a geographical rather than linguistic demarcation. Of the Papuan languages, the largest linguistic grouping is considered to be Trans-New Guinean, with between 300 and 500 languages likely belonging to the group in addition to a huge variety of dialects. The remainder of the Papuan languages belong to smaller, unrelated groupings as well as to isolates. Native languages are spoken by a few hundred to a few thousand, although the Enga language, used in Enga Province, is spoken by some 130,000 people.\n",
      "Tok Pisin serves as the lingua franca. English is the language of business and government, and all schooling from Grade 2 Primary is in English.\n",
      "The overall population density is low, although pockets of overpopulation exist. Papua New Guinea's Western Province averages one person per square kilometer (3 per sq. mi.). The Simbu Province in the New Guinea highlands averages 20 persons per square kilometer (52 persons/sq mi) and has areas containing up to 200 people farming a square kilometer of land. The highlands have 40% of the population.\n",
      "A considerable urban drift towards Port Moresby and other major centers has occurred in recent years. Between 1978 and 1988, Port Moresby grew nearly 8% per year, Lae 6%, Mount Hagen 6.5%, Goroka 4%, and Madang 3%. The trend toward urbanization accelerated in the 1990s, bringing in its wake squatter settlements, unemployment, and attendant social problems. Almost two-thirds of the population is Christian. Of these, more than 700,000 are Roman Catholic, more than 500,000 Lutheran, and the balance are members of other Protestant denominations. Although the major churches are under indigenous leadership, a large number of missionaries remain in the country. The non-Christian portion of the indigenous population practices a wide variety of indigenous religions that are an integral part of traditional culture. These religions are mainly types of animism and veneration of the dead.\n",
      "The World Bank estimates the number of international migrants in Papua New Guinea to be about 0.3% of the population. According to the 2000 and 2011 census, the most common places of origin for international migrants were the United States, Australia, the Philippines, and Indonesia. Since independence, about 900 foreigners have become naturalized citizens as of August 1999. An estimated 20,000 Chinese people live in Papua New Guinea.\n",
      "The traditional Papua New Guinea social structure includes the following characteristics:\n",
      "\n",
      "The practice of subsistence economy;\n",
      "Recognition of bonds of kinship with obligations extending beyond the immediate family group;\n",
      "Generally egalitarian relationships with an emphasis on acquired, rather than inherited, status; and\n",
      "A strong attachment of the people to land.\n",
      "Most Papua New Guineans still adhere strongly to this traditional social structure, which has its roots in village life.\n",
      "\n",
      "\n",
      "\n",
      "Page: Religion in Papua New Guinea\n",
      "Summary: Religion in Papua New Guinea is dominated by various branches of Christianity, with traditional animism \n",
      "Name: search_wikipedia\n",
      "\n",
      "--- Message 4 ---\n",
      "Type: AIMessage\n",
      "Content: The population of Papua New Guinea is estimated to be between 9.5 and 10.1 million people. Adding another million to this gives a theoretical population of approximately 10.5 to 11.1 million people.\n",
      "Name: None\n"
     ]
    }
   ],
   "source": [
    "query = \"What is the population of Papua New Guinea? Add another million to it\"\n",
    "\n",
    "response = math_agent_updated.invoke({\"messages\": [(\"human\", query)]})\n",
    "\n",
    "print(\"\\nMessage sequence:\")\n",
    "for i, msg in enumerate(response[\"messages\"]):\n",
    "    print(f\"\\n--- Message {i+1} ---\")\n",
    "    print(f\"Type: {type(msg).__name__}\")\n",
    "    if hasattr(msg, 'content'):\n",
    "        print(f\"Content: {msg.content}\")\n",
    "    if hasattr(msg, 'name'):\n",
    "        print(f\"Name: {msg.name}\")\n",
    "    if hasattr(msg, 'tool_calls') and msg.tool_calls:\n",
    "        print(f\"Tool calls: {msg.tool_calls}\")"
   ]
  },
  {
   "cell_type": "code",
   "execution_count": null,
   "id": "37930547-35ae-4c9b-b00e-d4ce2c583ee0",
   "metadata": {},
   "outputs": [],
   "source": []
  }
 ],
 "metadata": {
  "kernelspec": {
   "display_name": "Python 3 (ipykernel)",
   "language": "python",
   "name": "python3"
  },
  "language_info": {
   "codemirror_mode": {
    "name": "ipython",
    "version": 3
   },
   "file_extension": ".py",
   "mimetype": "text/x-python",
   "name": "python",
   "nbconvert_exporter": "python",
   "pygments_lexer": "ipython3",
   "version": "3.12.8"
  }
 },
 "nbformat": 4,
 "nbformat_minor": 5
}
