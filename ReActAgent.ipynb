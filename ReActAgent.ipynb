{
 "cells": [
  {
   "cell_type": "code",
   "execution_count": 18,
   "id": "96223893-654e-46d1-94be-33823d7f7d81",
   "metadata": {},
   "outputs": [
    {
     "name": "stdout",
     "output_type": "stream",
     "text": [
      "Requirement already satisfied: langgraph in /opt/conda/lib/python3.12/site-packages (0.3.34)\n",
      "Collecting langgraph\n",
      "  Using cached langgraph-0.6.6-py3-none-any.whl.metadata (6.8 kB)\n",
      "Requirement already satisfied: langchain-openai in /opt/conda/lib/python3.12/site-packages (0.3.14)\n",
      "Collecting langchain-openai\n",
      "  Using cached langchain_openai-0.3.32-py3-none-any.whl.metadata (2.4 kB)\n",
      "Requirement already satisfied: langchain-core>=0.1 in /opt/conda/lib/python3.12/site-packages (from langgraph) (0.3.75)\n",
      "Requirement already satisfied: langgraph-checkpoint<3.0.0,>=2.1.0 in /opt/conda/lib/python3.12/site-packages (from langgraph) (2.1.1)\n",
      "Collecting langgraph-prebuilt<0.7.0,>=0.6.0 (from langgraph)\n",
      "  Using cached langgraph_prebuilt-0.6.4-py3-none-any.whl.metadata (4.5 kB)\n",
      "Collecting langgraph-sdk<0.3.0,>=0.2.2 (from langgraph)\n",
      "  Using cached langgraph_sdk-0.2.4-py3-none-any.whl.metadata (1.5 kB)\n",
      "Requirement already satisfied: pydantic>=2.7.4 in /opt/conda/lib/python3.12/site-packages (from langgraph) (2.10.6)\n",
      "Requirement already satisfied: xxhash>=3.5.0 in /opt/conda/lib/python3.12/site-packages (from langgraph) (3.5.0)\n",
      "Requirement already satisfied: ormsgpack>=1.10.0 in /opt/conda/lib/python3.12/site-packages (from langgraph-checkpoint<3.0.0,>=2.1.0->langgraph) (1.10.0)\n",
      "Requirement already satisfied: httpx>=0.25.2 in /opt/conda/lib/python3.12/site-packages (from langgraph-sdk<0.3.0,>=0.2.2->langgraph) (0.28.1)\n",
      "Requirement already satisfied: orjson>=3.10.1 in /opt/conda/lib/python3.12/site-packages (from langgraph-sdk<0.3.0,>=0.2.2->langgraph) (3.11.3)\n",
      "Requirement already satisfied: openai<2.0.0,>=1.99.9 in /opt/conda/lib/python3.12/site-packages (from langchain-openai) (1.102.0)\n",
      "Requirement already satisfied: tiktoken<1,>=0.7 in /opt/conda/lib/python3.12/site-packages (from langchain-openai) (0.11.0)\n",
      "Requirement already satisfied: langsmith>=0.3.45 in /opt/conda/lib/python3.12/site-packages (from langchain-core>=0.1->langgraph) (0.3.45)\n",
      "Requirement already satisfied: tenacity!=8.4.0,<10.0.0,>=8.1.0 in /opt/conda/lib/python3.12/site-packages (from langchain-core>=0.1->langgraph) (9.1.2)\n",
      "Requirement already satisfied: jsonpatch<2.0,>=1.33 in /opt/conda/lib/python3.12/site-packages (from langchain-core>=0.1->langgraph) (1.33)\n",
      "Requirement already satisfied: PyYAML>=5.3 in /opt/conda/lib/python3.12/site-packages (from langchain-core>=0.1->langgraph) (6.0.2)\n",
      "Requirement already satisfied: typing-extensions>=4.7 in /opt/conda/lib/python3.12/site-packages (from langchain-core>=0.1->langgraph) (4.12.2)\n",
      "Requirement already satisfied: packaging>=23.2 in /opt/conda/lib/python3.12/site-packages (from langchain-core>=0.1->langgraph) (24.2)\n",
      "Requirement already satisfied: jsonpointer>=1.9 in /opt/conda/lib/python3.12/site-packages (from jsonpatch<2.0,>=1.33->langchain-core>=0.1->langgraph) (3.0.0)\n",
      "Requirement already satisfied: anyio<5,>=3.5.0 in /opt/conda/lib/python3.12/site-packages (from openai<2.0.0,>=1.99.9->langchain-openai) (4.8.0)\n",
      "Requirement already satisfied: distro<2,>=1.7.0 in /opt/conda/lib/python3.12/site-packages (from openai<2.0.0,>=1.99.9->langchain-openai) (1.9.0)\n",
      "Requirement already satisfied: jiter<1,>=0.4.0 in /opt/conda/lib/python3.12/site-packages (from openai<2.0.0,>=1.99.9->langchain-openai) (0.10.0)\n",
      "Requirement already satisfied: sniffio in /opt/conda/lib/python3.12/site-packages (from openai<2.0.0,>=1.99.9->langchain-openai) (1.3.1)\n",
      "Requirement already satisfied: tqdm>4 in /opt/conda/lib/python3.12/site-packages (from openai<2.0.0,>=1.99.9->langchain-openai) (4.67.1)\n",
      "Requirement already satisfied: idna>=2.8 in /opt/conda/lib/python3.12/site-packages (from anyio<5,>=3.5.0->openai<2.0.0,>=1.99.9->langchain-openai) (3.10)\n",
      "Requirement already satisfied: certifi in /opt/conda/lib/python3.12/site-packages (from httpx>=0.25.2->langgraph-sdk<0.3.0,>=0.2.2->langgraph) (2024.12.14)\n",
      "Requirement already satisfied: httpcore==1.* in /opt/conda/lib/python3.12/site-packages (from httpx>=0.25.2->langgraph-sdk<0.3.0,>=0.2.2->langgraph) (1.0.7)\n",
      "Requirement already satisfied: h11<0.15,>=0.13 in /opt/conda/lib/python3.12/site-packages (from httpcore==1.*->httpx>=0.25.2->langgraph-sdk<0.3.0,>=0.2.2->langgraph) (0.14.0)\n",
      "Requirement already satisfied: annotated-types>=0.6.0 in /opt/conda/lib/python3.12/site-packages (from pydantic>=2.7.4->langgraph) (0.7.0)\n",
      "Requirement already satisfied: pydantic-core==2.27.2 in /opt/conda/lib/python3.12/site-packages (from pydantic>=2.7.4->langgraph) (2.27.2)\n",
      "Requirement already satisfied: regex>=2022.1.18 in /opt/conda/lib/python3.12/site-packages (from tiktoken<1,>=0.7->langchain-openai) (2025.8.29)\n",
      "Requirement already satisfied: requests>=2.26.0 in /opt/conda/lib/python3.12/site-packages (from tiktoken<1,>=0.7->langchain-openai) (2.32.2)\n",
      "Requirement already satisfied: requests-toolbelt<2.0.0,>=1.0.0 in /opt/conda/lib/python3.12/site-packages (from langsmith>=0.3.45->langchain-core>=0.1->langgraph) (1.0.0)\n",
      "Requirement already satisfied: zstandard<0.24.0,>=0.23.0 in /opt/conda/lib/python3.12/site-packages (from langsmith>=0.3.45->langchain-core>=0.1->langgraph) (0.23.0)\n",
      "Requirement already satisfied: charset-normalizer<4,>=2 in /opt/conda/lib/python3.12/site-packages (from requests>=2.26.0->tiktoken<1,>=0.7->langchain-openai) (3.4.1)\n",
      "Requirement already satisfied: urllib3<3,>=1.21.1 in /opt/conda/lib/python3.12/site-packages (from requests>=2.26.0->tiktoken<1,>=0.7->langchain-openai) (2.3.0)\n",
      "Using cached langgraph-0.6.6-py3-none-any.whl (153 kB)\n",
      "Using cached langgraph_prebuilt-0.6.4-py3-none-any.whl (28 kB)\n",
      "Using cached langgraph_sdk-0.2.4-py3-none-any.whl (53 kB)\n",
      "Using cached langchain_openai-0.3.32-py3-none-any.whl (74 kB)\n",
      "Installing collected packages: langgraph-sdk, langchain-openai, langgraph-prebuilt, langgraph\n",
      "\u001b[2K  Attempting uninstall: langgraph-sdk\n",
      "\u001b[2K    Found existing installation: langgraph-sdk 0.1.74\n",
      "\u001b[2K    Uninstalling langgraph-sdk-0.1.74:\n",
      "\u001b[2K      Successfully uninstalled langgraph-sdk-0.1.74\n",
      "\u001b[2K  Attempting uninstall: langchain-openai\n",
      "\u001b[2K    Found existing installation: langchain-openai 0.3.14\n",
      "\u001b[2K    Uninstalling langchain-openai-0.3.14:\n",
      "\u001b[2K      Successfully uninstalled langchain-openai-0.3.14\n",
      "\u001b[2K  Attempting uninstall: langgraph-prebuilt\n",
      "\u001b[2K    Found existing installation: langgraph-prebuilt 0.1.8\n",
      "\u001b[2K    Uninstalling langgraph-prebuilt-0.1.8:\n",
      "\u001b[2K      Successfully uninstalled langgraph-prebuilt-0.1.8\n",
      "\u001b[2K  Attempting uninstall: langgraph\n",
      "\u001b[2K    Found existing installation: langgraph 0.3.34[0m\u001b[90m━━━━━━━━━\u001b[0m \u001b[32m3/4\u001b[0m [langgraph]\n",
      "\u001b[2K    Uninstalling langgraph-0.3.34:\u001b[0m\u001b[90m╺\u001b[0m\u001b[90m━━━━━━━━━\u001b[0m \u001b[32m3/4\u001b[0m [langgraph]\n",
      "\u001b[2K      Successfully uninstalled langgraph-0.3.34m\u001b[90m━━━━━━━━━\u001b[0m \u001b[32m3/4\u001b[0m [langgraph]\n",
      "\u001b[2K   \u001b[90m━━━━━━━━━━━━━━━━━━━━━━━━━━━━━━━━━━━━━━━━\u001b[0m \u001b[32m4/4\u001b[0m [langgraph]0m [langgraph]\n",
      "\u001b[1A\u001b[2KSuccessfully installed langchain-openai-0.3.32 langgraph-0.6.6 langgraph-prebuilt-0.6.4 langgraph-sdk-0.2.4\n"
     ]
    }
   ],
   "source": [
    "!pip install -U langgraph langchain-openai"
   ]
  },
  {
   "cell_type": "code",
   "execution_count": 19,
   "id": "9ca48b9d-5ec6-45ba-bccf-45aeb61b0a6c",
   "metadata": {},
   "outputs": [],
   "source": [
    "%%capture\n",
    "!pip install langgraph==0.3.34 langchain-openai==0.3.14 langchainhub==0.1.21 langchain==0.3.24 pygraphviz==1.14 langchain-community==0.3.23"
   ]
  },
  {
   "cell_type": "code",
   "execution_count": 20,
   "id": "11c94a93-37bc-4565-b2d8-89b3bf92a44d",
   "metadata": {},
   "outputs": [],
   "source": [
    "import warnings \n",
    "warnings.filterwarnings('ignore')\n",
    "\n",
    "from langchain_community.tools.tavily_search import TavilySearchResults\n",
    "from langchain.tools import tool\n",
    "import os\n",
    "import json\n",
    "\n",
    "os.environ[\"TAVILY_API_KEY\"] = \"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\"\n",
    "\n",
    "# Initialize the Tavily search tool\n",
    "search = TavilySearchResults()\n",
    "\n",
    "@tool\n",
    "def search_tool(query: str):\n",
    "    \"\"\"\n",
    "    Search the web for information using Tavily API.\n",
    "\n",
    "    :param query: The search query string\n",
    "    :return: Search results related to the query\n",
    "    \"\"\"\n",
    "    return search.invoke(query)"
   ]
  },
  {
   "cell_type": "code",
   "execution_count": 21,
   "id": "ecdaf6dc-99f7-450c-997f-8ac6076c0fca",
   "metadata": {},
   "outputs": [
    {
     "data": {
      "text/plain": [
       "[{'title': 'Tokyo weather in August 2025 - Weather25.com',\n",
       "  'url': 'https://www.weather25.com/asia/japan/tokyo?page=month&month=August',\n",
       "  'content': 'weather25.com\\nSearch\\nweather in Japan\\nRemove from your favorite locations\\nAdd to my locations\\nShare\\nweather in Japan\\n\\n# Tokyo weather in August 2025\\n\\nPartly cloudy\\nClear\\nPartly cloudy\\nLight rain shower\\nModerate or heavy rain shower\\nLight rain shower\\nOvercast\\nPartly cloudy\\nPatchy rain possible\\nPatchy rain possible\\nLight rain shower\\nPatchy rain possible\\nCloudy\\nPartly cloudy\\n\\n## The average weather in Tokyo in August [...] Patchy rain possible\\nSunny\\nPartly cloudy\\nSunny\\nPartly cloudy\\nPartly cloudy\\nLight rain shower\\nPartly cloudy\\nSunny\\nPatchy rain possible\\nPatchy rain possible\\nPatchy rain possible\\nLight rain shower\\nPartly cloudy\\nModerate or heavy rain shower\\nPatchy rain possible\\nPatchy rain possible\\nPartly cloudy\\nPartly cloudy\\nPatchy rain possible\\nPartly cloudy\\nLight rain shower\\nPatchy light drizzle\\nPartly cloudy\\nPatchy rain possible\\nLight rain shower\\nPartly cloudy\\nPartly cloudy\\nPartly cloudy [...] | 24 Partly cloudy 31° /27° | 25 Patchy rain possible 32° /26° | 26 Light rain shower 32° /27° | 27 Partly cloudy 32° /27° | 28 Partly cloudy 30° /26° | 29 Partly cloudy 31° /26° | 30 Moderate rain at times 29° /26° |\\n| 31 Partly cloudy 35° /29° |  |  |  |  |  |  |',\n",
       "  'score': 0.8963332},\n",
       " {'title': 'Tokyo weather in August 2025 | Japan: How hot?',\n",
       "  'url': 'https://www.weather2travel.com/japan/tokyo/august/',\n",
       "  'content': \"weather2travel.com - travel deals for your holiday in the sun\\nClick to search\\n\\n# Tokyo weather in August 2025\\n\\nExpect  daytime maximum temperatures of 31°C in Tokyo, Japan in August and high heat and humidity based on long-term weather averages. There are 6 hours of sunshine per day on average with 16 days with some rainfall and typically 147 mm of rainfall in the month. [...] 31°C maximum daytime temperature in August in Tokyo\\n6 hours of sunshine per day (43% of daylight hours) in August in Tokyo\\n16 days with some rainfall in August in Tokyo\\n24°C minimum night-time temperature in August in Tokyo\\n13 hours of daylight per day in August in Tokyo\\nHigh heat & humidity in August in Tokyo\\n147 mm monthly rainfall in August in Tokyo\\nUV (maximum) index 10 (Very High) in August in Tokyo\\n26°C sea temperature in August in Tokyo\\n\\n### More about Tokyo [...] Seeking out the teahouses of Tokyo, Japan\\nSeeking out the teahouses of Tokyo, Japan\\nA first timer's guide to Japan's most beguiling big cities\\nA first timer's guide to Japan's most beguiling big cities\\n7 ways to sample Osaka\\n7 ways to sample Osaka\\n\\n### How hot is it in Tokyo in August?\\n\\nDaytime temperatures usually reach 31°C in Tokyo in August with high heat and humidity, falling to 24°C at night.\\n\\n### How sunny is it in Tokyo in August?\",\n",
       "  'score': 0.84215075},\n",
       " {'title': 'Japan Weather in August 2025: Travel Tips for the Hottest Month',\n",
       "  'url': 'https://www.japanhighlights.com/japan/weather-in-august',\n",
       "  'content': \"## Japan's Weather and Climate in August\\n\\nJapan is hot and muggy through August.\\n\\nJapan weather in August\\n\\nAugust is the hottest month of the year in central regions like Tokyo, Kyoto, Osaka, and Hiroshima. Temperatures range from 24-32Â°C (75-90Â°F), sometimes exceeding 37Â°C (99Â°F). The humidity is often over 80%, making it feel even hotter than it really is. If you're used to dry summers, you might find it uncomfortable and get sweaty easily. [...] Join our popular 11-Day Traditional Japan Tour with Historical Hiroshima now. Our expert Japan travel advisors will customize it to fit your schedule and needs. With our local insights and flexible itinerary, you can fully focus on the experience.\\n\\n## Tokyo and Central Japan in August: Hot and Muggy\\n\\nOur clients in Harajuku, TokyoOur clients in Harajuku, Tokyo\\n\\nYou'll experience hot and humid weather in central Japan cities like Tokyo, Kyoto, and Osaka. [...] Japan Highlights logo\\nJapan Weather in August 2025: Travel Tips for the Hottest Month\\n\\n# Japan Weather in August 2025: Travel Tips for the Hottest Month\\n\\nJapan Expert\\n\\nAugust is the hottest and most humid time of the year in Japan, with daily highs sometimes reaching 37â\\x84\\x83 (99â\\x84\\x89). The high humidity can make it feel even stickier and more intense.\",\n",
       "  'score': 0.7339103},\n",
       " {'title': 'Tokyo, Tokyo, Japan Monthly Weather | AccuWeather',\n",
       "  'url': 'https://www.accuweather.com/en/jp/tokyo/226396/august-weather/226396',\n",
       "  'content': \"# Tokyo, Tokyo\\n\\nTokyo\\n\\nTokyo\\n\\n## Around the Globe\\n\\nAround the Globe\\n\\n### Hurricane Tracker\\n\\n### Severe Weather\\n\\n### Radar & Maps\\n\\n### News & Features\\n\\n### Astronomy\\n\\n### Business\\n\\n### Climate\\n\\n### Health\\n\\n### Recreation\\n\\n### Sports\\n\\n### Travel\\n\\n### Warnings\\n\\n### Data Suite\\n\\n### Forensics\\n\\n### Advertising\\n\\n### Superior Accuracy™\\n\\n### Video\\n\\n## Monthly\\n\\n## August\\n\\n## 2025\\n\\n## Daily\\n\\n## Temperature Graph\\n\\n## Further Ahead\\n\\nFurther Ahead\\n\\n### September 2025\\n\\n### October 2025\\n\\n### November 2025 [...] 2 more celestial sights to see before autumn's arrival\\n\\n1 day ago\\n\\nFeatured Stories\\n\\nAstronomy\\n\\nPolka-dotted sun: What are the dark areas that have appeared?\\n\\n2 days ago\\n\\nTravel\\n\\nGas hasn’t been this cheap on Labor Day since 2020\\n\\n1 day ago\\n\\nWeather News\\n\\nWhy meteorological, astronomical fall start on different dates\\n\\n1 day ago\\n\\nClearing the air: Leaves are falling but it's not autumn yet\\n\\nLATEST ENTRY\\n\\nWhy are there so many leaves falling? Is this an early autumn?\\n\\n3 days ago\\n\\nWeather News [...] ## Around the Globe\\n\\nAround the Globe\\n\\n### Hurricane Tracker\\n\\n### Severe Weather\\n\\n### Radar & Maps\\n\\n### News\\n\\n### Video\\n\\nTop Stories\\n\\nWeather Forecasts\\n\\nPolar air to bring October-like chill to 250 million in U.S.\\n\\n3 hours ago\\n\\nHurricane\\n\\nHurricane Katrina by the Numbers, 20 years later\\n\\n1 day ago\\n\\nHurricane\\n\\nLabor Day is almost here. Where are the hurricanes?\\n\\n4 hours ago\\n\\nWeather Forecasts\\n\\nU.S. Labor Day AccuWeather: Who's hot, who's cool and who's all wet?\\n\\n1 hour ago\\n\\nAstronomy\",\n",
       "  'score': 0.580091},\n",
       " {'title': 'Tokyo Weather in August 2026, Scorching Hot Summer - Agate Travel',\n",
       "  'url': 'https://www.agatetravel.com/japan/tokyo/weather-in-august.html',\n",
       "  'content': 'Tokyo weather in August is torrid, at a highest temperature of 38°C (100.4°F) or so. With the sharply increasing temperature, the weather in August can sometimes make people insufferable. It is even hotter in the middle of this month than the early days and the temperature still keeps the tendency of getting higher. In such a climate, August offers the longest sunshine hours throughout the year. Although the number of rainy days is less than before, there is a possibility of typhoons and [...] See also: Japan Weather in August\\n\\n|  |\\n\\n| Mount Fuji Mount Fuji in Summer |\\n\\n|  |\\n\\n| Mount Fuji Mount Fuji in Summer |\\n\\nMount Fuji\\n\\nMount Fuji in Summer\\n\\n## Averages of August in Tokyo\\n\\n## Temperature\\n\\n|  |\\n\\n| Lush Plants in Hibiya Park Lush Lotuses in Hibiya Park |\\n\\nLush Plants in Hibiya Park\\n\\nLush Lotuses in Hibiya Park\\n\\n## Are There A Lot of Rain and Typhoon in Tokyo in August?\\n\\n## Is It Ok to Visit Tokyo in August?\\n\\n## Recommended Clothes to Wear in August\\n\\n### Girls [...] AgateTravel\\nWeLiveToServe\\n\\n# Tokyo Weather in August\\n\\nSeason: Late Summer  \\nIn Short: Hot and torrid, possible month of typhoon and heavy rains',\n",
       "  'score': 0.57637566}]"
      ]
     },
     "execution_count": 21,
     "metadata": {},
     "output_type": "execute_result"
    }
   ],
   "source": [
    "search_tool(\"What's the weather like in Tokyo today?\")"
   ]
  },
  {
   "cell_type": "code",
   "execution_count": 22,
   "id": "3ea2a3d9-1688-46c7-9b7e-018d11374e32",
   "metadata": {},
   "outputs": [],
   "source": [
    "@tool\n",
    "def recommend_clothing(weather: str) -> str:\n",
    "    \"\"\"\n",
    "    Returns a clothing recommendation based on the provided weather description.\n",
    "\n",
    "    This function examines the input string for specific keywords or temperature indicators \n",
    "    (e.g., \"snow\", \"freezing\", \"rain\", \"85°F\") to suggest appropriate attire. It handles \n",
    "    common weather conditions like snow, rain, heat, and cold by providing simple and practical \n",
    "    clothing advice.\n",
    "\n",
    "    :param weather: A brief description of the weather (e.g., \"Overcast, 64.9°F\")\n",
    "    :return: A string with clothing recommendations suitable for the weather\n",
    "    \"\"\"\n",
    "    weather = weather.lower()\n",
    "    if \"snow\" in weather or \"freezing\" in weather:\n",
    "        return \"Wear a heavy coat, gloves, and boots.\"\n",
    "    elif \"rain\" in weather or \"wet\" in weather:\n",
    "        return \"Bring a raincoat and waterproof shoes.\"\n",
    "    elif \"hot\" in weather or \"85\" in weather:\n",
    "        return \"T-shirt, shorts, and sunscreen recommended.\"\n",
    "    elif \"cold\" in weather or \"50\" in weather:\n",
    "        return \"Wear a warm jacket or sweater.\"\n",
    "    else:\n",
    "        return \"A light jacket should be fine.\""
   ]
  },
  {
   "cell_type": "code",
   "execution_count": 23,
   "id": "8a2354a2-10e8-4fad-b39f-fb38da7ac8f4",
   "metadata": {},
   "outputs": [],
   "source": [
    "tools=[search_tool,recommend_clothing]\n",
    "\n",
    "tools_by_name={ tool.name:tool for tool in tools}"
   ]
  },
  {
   "cell_type": "code",
   "execution_count": 24,
   "id": "7f4bdaf1-5922-4560-96d2-7fdd26df2502",
   "metadata": {},
   "outputs": [],
   "source": [
    "from langchain_openai import ChatOpenAI\n",
    "from langchain_core.tools import tool\n",
    "\n",
    "model = ChatOpenAI(model=\"gpt-4o-mini\")"
   ]
  },
  {
   "cell_type": "code",
   "execution_count": 25,
   "id": "6c05a292-7fd0-4bcf-be67-5d222e65c5ce",
   "metadata": {},
   "outputs": [],
   "source": [
    "from langchain_core.prompts import ChatPromptTemplate, MessagesPlaceholder\n",
    "from langchain_core.messages import BaseMessage, HumanMessage, AIMessage, ToolMessage,SystemMessage\n",
    "\n",
    "chat_prompt = ChatPromptTemplate.from_messages([\n",
    "    (\"system\", \"\"\"\n",
    "You are a helpful AI assistant that thinks step-by-step and uses tools when needed.\n",
    "\n",
    "When responding to queries:\n",
    "1. First, think about what information you need\n",
    "2. Use available tools if you need current data or specific capabilities  \n",
    "3. Provide clear, helpful responses based on your reasoning and any tool results\n",
    "\n",
    "Always explain your thinking process to help users understand your approach.\n",
    "\"\"\"),\n",
    "    MessagesPlaceholder(variable_name=\"scratch_pad\")\n",
    "])"
   ]
  },
  {
   "cell_type": "code",
   "execution_count": 26,
   "id": "c26698d8-b599-4ae3-850c-d443e05b1311",
   "metadata": {},
   "outputs": [],
   "source": [
    "model_react=chat_prompt|model.bind_tools(tools)"
   ]
  },
  {
   "cell_type": "code",
   "execution_count": 27,
   "id": "ee239d6d-5816-407e-b77a-31568471a12a",
   "metadata": {},
   "outputs": [],
   "source": [
    "from typing import (Annotated,Sequence,TypedDict)\n",
    "from langchain_core.messages import BaseMessage\n",
    "from langgraph.graph.message import add_messages\n",
    "\n",
    "class AgentState(TypedDict):\n",
    "    \"\"\"The state of the agent.\"\"\"\n",
    "\n",
    "    # add_messages is a reducer\n",
    "    # See https://langchain-ai.github.io/langgraph/concepts/low_level/#reducers\n",
    "    messages: Annotated[Sequence[BaseMessage], add_messages]"
   ]
  },
  {
   "cell_type": "code",
   "execution_count": 28,
   "id": "3409c2f7-5ab9-419e-84ea-7559db49d83f",
   "metadata": {},
   "outputs": [
    {
     "name": "stdout",
     "output_type": "stream",
     "text": [
      "After greeting: [HumanMessage(content='Hi', additional_kwargs={}, response_metadata={}, id='75f8b606-048f-43e4-8c0a-17031b318db6')]\n",
      "After question: {'messages': [HumanMessage(content='Hi', additional_kwargs={}, response_metadata={}, id='75f8b606-048f-43e4-8c0a-17031b318db6'), HumanMessage(content='Weather in NYC?', additional_kwargs={}, response_metadata={}, id='f6493b9a-ff8b-45d7-8767-6dd0c2e0bae4')]}\n"
     ]
    }
   ],
   "source": [
    "# Example conversation flow:\n",
    "state: AgentState = {\"messages\": []}\n",
    "\n",
    "# append a message using the reducer properly\n",
    "state[\"messages\"] = add_messages(state[\"messages\"], [HumanMessage(content=\"Hi\")])\n",
    "print(\"After greeting:\", state[\"messages\"])\n",
    "\n",
    "# add another message (e.g. a question)\n",
    "state[\"messages\"] = add_messages(state[\"messages\"], [HumanMessage(content=\"Weather in NYC?\")])\n",
    "print(\"After question:\", state)"
   ]
  },
  {
   "cell_type": "code",
   "execution_count": 29,
   "id": "faacd9bc-067e-499e-a173-004fdf178ade",
   "metadata": {},
   "outputs": [],
   "source": [
    "def tool_node(state: AgentState):\n",
    "    \"\"\"Execute all tool calls from the last message in the state.\"\"\"\n",
    "    outputs = []\n",
    "    for tool_call in state[\"messages\"][-1].tool_calls:\n",
    "        tool_result = tools_by_name[tool_call[\"name\"]].invoke(tool_call[\"args\"])\n",
    "        outputs.append(\n",
    "            ToolMessage(\n",
    "                content=json.dumps(tool_result),\n",
    "                name=tool_call[\"name\"],\n",
    "                tool_call_id=tool_call[\"id\"],\n",
    "            )\n",
    "        )\n",
    "    return {\"messages\": outputs}"
   ]
  },
  {
   "cell_type": "code",
   "execution_count": 30,
   "id": "e218dda3-c169-4ada-bdd5-27584da57be2",
   "metadata": {},
   "outputs": [],
   "source": [
    "def call_model(state: AgentState):\n",
    "    \"\"\"Invoke the model with the current conversation state.\"\"\"\n",
    "    response = model_react.invoke({\"scratch_pad\": state[\"messages\"]})\n",
    "    return {\"messages\": [response]}"
   ]
  },
  {
   "cell_type": "code",
   "execution_count": 31,
   "id": "6a104037-53c2-42e5-b9a3-e39d1465de7d",
   "metadata": {},
   "outputs": [],
   "source": [
    "def should_continue(state: AgentState):\n",
    "    \"\"\"Determine whether to continue with tool use or end the conversation.\"\"\"\n",
    "    messages = state[\"messages\"]\n",
    "    last_message = messages[-1]\n",
    "    # If there is no function call, then we finish\n",
    "    if not last_message.tool_calls:\n",
    "        return \"end\"\n",
    "    # Otherwise if there is, we continue\n",
    "    else:\n",
    "        return \"continue\""
   ]
  },
  {
   "cell_type": "code",
   "execution_count": 32,
   "id": "6e3c2713-4ea1-4534-b8ef-34576d9a3798",
   "metadata": {},
   "outputs": [],
   "source": [
    "from langgraph.graph import StateGraph, END\n",
    "\n",
    "# Define a new graph\n",
    "workflow = StateGraph(AgentState)\n",
    "\n",
    "# Define the two nodes we will cycle between\n",
    "workflow.add_node(\"agent\", call_model)\n",
    "workflow.add_node(\"tools\", tool_node)\n",
    "\n",
    "# Add edges between nodes\n",
    "workflow.add_edge(\"tools\", \"agent\")  # After tools, always go back to agent\n",
    "\n",
    "# Add conditional logic\n",
    "workflow.add_conditional_edges(\n",
    "    \"agent\",\n",
    "    should_continue,\n",
    "    {\n",
    "        \"continue\": \"tools\",  # If tools needed, go to tools node\n",
    "        \"end\": END,          # If done, end the conversation\n",
    "    },\n",
    ")\n",
    "\n",
    "# Set entry point\n",
    "workflow.set_entry_point(\"agent\")\n",
    "\n",
    "# Compile the graph\n",
    "graph = workflow.compile()"
   ]
  },
  {
   "cell_type": "code",
   "execution_count": 33,
   "id": "9f4e8f9b-4159-4442-8492-d3838261bd3b",
   "metadata": {},
   "outputs": [
    {
     "data": {
      "image/png": "[encoded data removed]",
      "text/plain": [
       "<IPython.core.display.Image object>"
      ]
     },
     "metadata": {},
     "output_type": "display_data"
    }
   ],
   "source": [
    "from IPython.display import Image, display\n",
    "\n",
    "try:\n",
    "    display(Image(graph.get_graph().draw_mermaid_png()))\n",
    "except Exception:\n",
    "    # This requires some extra dependencies and is optional\n",
    "    pass"
   ]
  },
  {
   "cell_type": "code",
   "execution_count": 34,
   "id": "751e5b89-12de-4466-a1c5-1e6c06d3a50c",
   "metadata": {},
   "outputs": [
    {
     "name": "stdout",
     "output_type": "stream",
     "text": [
      "================================\u001b[1m Human Message \u001b[0m=================================\n",
      "\n",
      "What's the weather like in Zurich, and what should I wear based on the temperature?\n",
      "==================================\u001b[1m Ai Message \u001b[0m==================================\n",
      "Tool Calls:\n",
      "  search_tool (call_ABPcxdgsCELR1O0tNmVhTEEt)\n",
      " Call ID: call_ABPcxdgsCELR1O0tNmVhTEEt\n",
      "  Args:\n",
      "    query: current weather Zurich\n",
      "=================================\u001b[1m Tool Message \u001b[0m=================================\n",
      "Name: search_tool\n",
      "\n",
      "[{\"title\": \"Zurich, Zurich, Switzerland Weather Forecast | AccuWeather\", \"url\": \"https://www.accuweather.com/en/ch/zurich/316622/weather-forecast/316622\", \"content\": \"Tomorrow: Mostly sunny and pleasantly warm\\nHi: 76\\u00b0\\n\\n## Current Weather\\n\\n11:03 PM\\n\\n## Looking Ahead\\n\\nPleasant Sunday\\n\\n## Zurich Weather Radar\\n\\nZurich Weather Radar\\n\\n## Hourly Weather\\n\\nrain drop\\n\\nrain drop\\n\\nrain drop\\n\\nrain drop\\n\\nrain drop\\n\\nrain drop\\n\\nrain drop\\n\\nrain drop\\n\\nrain drop\\n\\nrain drop\\n\\nrain drop\\n\\nrain drop\\n\\n## 10-Day Weather Forecast\\n\\nTonight\\n\\n8/30\\n\\nA shower early; partly cloudy\\n\\nSun\\n\\n8/31\\n\\nMostly sunny and pleasant\\n\\nNight: Increasing clouds\\n\\nMon\\n\\n9/1\\n\\nNot as warm; p.m. showers [...] # Zurich, Zurich\\n\\nZurich\\n\\nZurich\\n\\n## Around the Globe\\n\\nAround the Globe\\n\\n### Hurricane Tracker\\n\\n### Severe Weather\\n\\n### Radar & Maps\\n\\n### News & Features\\n\\n### Astronomy\\n\\n### Business\\n\\n### Climate\\n\\n### Health\\n\\n### Recreation\\n\\n### Sports\\n\\n### Travel\\n\\n### Warnings\\n\\n### Data Suite\\n\\n### Forensics\\n\\n### Advertising\\n\\n### Superior Accuracy\\u2122\\n\\n### Video\\n\\n## Today\\n\\n## Tonight's Weather\\n\\nSat, Aug 30\\n\\nAn evening shower in places; otherwise, partly cloudy\\nLo: 51\\u00b0 [...] The air quality is generally acceptable for most individuals. However, sensitive groups may experience minor to moderate symptoms from long-term exposure.\\n\\n## Allergy Outlook\\n\\nTop Stories\\n\\nWeather Forecasts\\n\\nPolar air to bring October-like chill to 250 million in U.S.\\n\\n3 hours ago\\n\\nHurricane\\n\\nHurricane Katrina by the Numbers, 20 years later\\n\\n1 day ago\\n\\nHurricane\\n\\nLabor Day is almost here. Where are the hurricanes?\\n\\n4 hours ago\\n\\nWeather Forecasts\", \"score\": 0.73207545}, {\"title\": \"Switzerland weather in August 2025\", \"url\": \"https://www.weather25.com/europe/switzerland?page=month&month=August\", \"content\": \"weather25.com\\nSearch\\nweather in Switzerland\\nRemove from your favorite locations\\nAdd to my locations\\nShare\\nweather in Switzerland\\n\\n# Switzerland weather in August 2025\\n\\nLight rain shower\\nPartly cloudy\\nLight drizzle\\nPatchy rain possible\\nLight drizzle\\nClear\\nLight rain shower\\nPatchy rain possible\\nClear\\nClear\\nPatchy light rain\\nPatchy rain possible\\nPartly cloudy\\nClear\\n\\n## The average weather in Switzerland in August [...] | Sun | Mon | Tue | Wed | Thu | Fri | Sat |\\n ---  ---  --- \\n|  |  |  |  |  | 1 Partly cloudy 24\\u00b0 /15\\u00b0 | 2 Moderate or heavy rain shower 25\\u00b0 /14\\u00b0 |\\n| 3 Light rain shower 23\\u00b0 /13\\u00b0 | 4 Moderate rain 24\\u00b0 /13\\u00b0 | 5 Partly cloudy 26\\u00b0 /13\\u00b0 | 6 Mist 23\\u00b0 /12\\u00b0 | 7 Light rain shower 24\\u00b0 /12\\u00b0 | 8 Mist 26\\u00b0 /12\\u00b0 | 9 Mist 28\\u00b0 /13\\u00b0 | [...] | 24 Mist 26\\u00b0 /12\\u00b0 | 25 Sunny 25\\u00b0 /12\\u00b0 | 26 Partly cloudy 25\\u00b0 /12\\u00b0 | 27 Light rain shower 23\\u00b0 /12\\u00b0 | 28 Light rain shower 22\\u00b0 /12\\u00b0 | 29 Moderate or heavy rain shower 22\\u00b0 /12\\u00b0 | 30 Light rain shower 19\\u00b0 /11\\u00b0 |\\n| 31 Partly cloudy 24\\u00b0 /9\\u00b0 |  |  |  |  |  |  |\", \"score\": 0.72768575}, {\"title\": \"Zurich - BBC Weather\", \"url\": \"https://www.bbc.com/weather/2657896\", \"content\": \"## Observations - Zuerich/Epilepsie-Zentrum\\n\\nObserved at 22:00,\\n\\nSaturday 30 August\\n\\n## Settings\\n\\n## More Weather\\n\\n### UK\\n\\n### About BBC Weather\\n\\n### Elsewhere\\n\\nBBC Weather in association with MeteoGroup, external\\n\\nAll times are Central European Summer Time (Europe/Zurich, GMT+2) unless otherwise stated.\\n\\n## Explore the BBC [...] ## Accessibility links\\n\\n## Search for a location\\n\\n# Zurich - Weather warnings issued\\n\\n## Forecast - Zurich\\n\\n### Day by day forecast\\n\\n### Environmental Summary\\n\\n### Sunrise Sunset\\n\\n### Sunrise Sunset\\n\\n### Sunrise Sunset\\n\\n### Sunrise Sunset\\n\\n### Sunrise Sunset\\n\\n### Sunrise Sunset\\n\\n### Sunrise Sunset\\n\\n### Sunrise Sunset\\n\\n### Sunrise Sunset\\n\\n### Sunrise Sunset\\n\\n### Sunrise Sunset\\n\\n### Sunrise Sunset\\n\\n### Sunrise Sunset\\n\\n### Sunrise Sunset\\n\\n### Hour by hour forecast\\n\\n### Environmental Summary [...] ### Sunrise Sunset\\n\\n### Sunrise Sunset\\n\\n### Sunrise Sunset\\n\\n### Sunrise Sunset\\n\\n### Sunrise Sunset\\n\\n### Sunrise Sunset\\n\\n### Sunrise Sunset\\n\\n### Sunrise Sunset\\n\\n### Sunrise Sunset\\n\\n### Sunrise Sunset\\n\\n### Sunrise Sunset\\n\\n### Sunrise Sunset\\n\\n### Sunrise Sunset\\n\\n### Sunrise Sunset\\n\\n## Outlook forecast map\\n\\n## Forecast for Europe\\n\\n### Latest forecast for Europe\\n\\n## To play this video you need to enable JavaScript in your browser.\\n\\nThis video can not be played\", \"score\": 0.54753727}, {\"title\": \"10-Day Weather Forecast for Langstrasse, Z\\u00fcrich, Switzerland\", \"url\": \"https://weather.com/weather/tenday/l/Langstrasse+Z%C3%BCrich+Switzerland?canonicalCityId=073a99a62e75812ec385c6da3cc46f95\", \"content\": \"## Recent Locations\\n\\n## Weather Forecasts\\n\\n## Radar & Maps\\n\\n## News & Media\\n\\n## Products & Account\\n\\n## Lifestyle\\n\\n### Specialty Forecasts\\n\\n# 10 Day Weather-Langstrasse, Z\\u00fcrich, Switzerland\\n\\n## Tonight\\n\\n## Night\\n\\nA clear sky. Low 51F. Winds light and variable.\\n\\nundefined\\n\\nHeads-up\\n\\nTropics Quiet For Now, Will Wake Up In September\\n\\n## Sun 31\\n\\n## Day\\n\\nMostly sunny. High around 75F. Winds light and variable.\\n\\n## Night [...] We recognize our responsibility to use data and technology for good. We may use or share your data with our data vendors. Take control of your data.\\n\\nThe Weather Channel is the world's most accurate forecaster according to ForecastWatch, Global and Regional Weather Forecast Accuracy Overview, 2021-2024, commissioned by The Weather Company.\\n\\nWeather Channel\\n\\n\\u00a9 The Weather Company, LLC 2025 [...] Cloudy with occasional rain showers. Low 52F. Winds light and variable. Chance of rain 50%.\\n\\n## Don't Miss\\n\\n## Radar\\n\\n## Summer And Your Skin\\n\\n## Home, Garage & Garden\\n\\n## Travel\\n\\n## Seasonal Hub\\n\\n## The Rhythm Of Resilience\\n\\n## Sun & Moon\\n\\n## When To Visit, What To Do\\n\\n## Product Reviews & Deals\\n\\nundefined\\n\\nLast Call For Summer Savings: Labor Day Weekend Deals\\n\\nundefined\\n\\nHot Weather Heroes: Best Countertop Ice Makers\\n\\nundefined\\n\\nMake A Splash With This 4.8-Star Stand Up Paddleboard Sale\", \"score\": 0.51866865}, {\"title\": \"Zurich 1, Zurich, Switzerland Monthly Weather ...\", \"url\": \"https://www.accuweather.com/en/ch/zurich-1/8021/august-weather/406033_pc\", \"content\": \"# Zurich 1, Zurich\\n\\nZurich 1\\n\\nZurich\\n\\n## Around the Globe\\n\\nAround the Globe\\n\\n### Hurricane Tracker\\n\\n### Severe Weather\\n\\n### Radar & Maps\\n\\n### News & Features\\n\\n### Astronomy\\n\\n### Business\\n\\n### Climate\\n\\n### Health\\n\\n### Recreation\\n\\n### Sports\\n\\n### Travel\\n\\n### Warnings\\n\\n### Data Suite\\n\\n### Forensics\\n\\n### Advertising\\n\\n### Superior Accuracy\\u2122\\n\\n### Video\\n\\n## Monthly\\n\\n## August\\n\\n## 2025\\n\\n## Daily\\n\\n## Temperature Graph\\n\\n## Further Ahead\\n\\nFurther Ahead\\n\\n### September 2025\\n\\n### October 2025 [...] ### November 2025\\n\\n## Around the Globe\\n\\nAround the Globe\\n\\n### Hurricane Tracker\\n\\n### Severe Weather\\n\\n### Radar & Maps\\n\\n### News\\n\\n### Video\\n\\nTop Stories\\n\\nWeather Forecasts\\n\\nPolar air to bring October-like chill to 250 million in U.S.\\n\\n3 hours ago\\n\\nHurricane\\n\\nHurricane Katrina by the Numbers, 20 years later\\n\\n1 day ago\\n\\nHurricane\\n\\nLabor Day is almost here. Where are the hurricanes?\\n\\n4 hours ago\\n\\nWeather Forecasts\\n\\nU.S. Labor Day AccuWeather: Who's hot, who's cool and who's all wet?\\n\\n1 hour ago\", \"score\": 0.5117904}]\n",
      "==================================\u001b[1m Ai Message \u001b[0m==================================\n",
      "Tool Calls:\n",
      "  recommend_clothing (call_OV3Kv8d3W3iuCDh1U2cr2LXs)\n",
      " Call ID: call_OV3Kv8d3W3iuCDh1U2cr2LXs\n",
      "  Args:\n",
      "    weather: Mostly sunny and pleasant, High: 76°F, Low tonight: 51°F\n",
      "=================================\u001b[1m Tool Message \u001b[0m=================================\n",
      "Name: recommend_clothing\n",
      "\n",
      "\"A light jacket should be fine.\"\n",
      "==================================\u001b[1m Ai Message \u001b[0m==================================\n",
      "\n",
      "The current weather in Zurich is mostly sunny and pleasant, with a high of 76°F (around 24°C) and a low tonight of 51°F (approximately 11°C). \n",
      "\n",
      "Given this temperature range, you should wear a light jacket for the evening and possibly lighter layers during the day, as it may be warm enough to be comfortable without a heavy coat during the sunny hours. \n",
      "\n",
      "If you need any more specific clothing recommendations or have further questions, feel free to ask!\n"
     ]
    }
   ],
   "source": [
    "def print_stream(stream):\n",
    "    \"\"\"Helper function for formatting the stream nicely.\"\"\"\n",
    "    for s in stream:\n",
    "        message = s[\"messages\"][-1]\n",
    "        if isinstance(message, tuple):\n",
    "            print(message)\n",
    "        else:\n",
    "            message.pretty_print()\n",
    "\n",
    "inputs = {\"messages\": [HumanMessage(content=\"What's the weather like in Zurich, and what should I wear based on the temperature?\")]}\n",
    "\n",
    "print_stream(graph.stream(inputs, stream_mode=\"values\"))"
   ]
  },
  {
   "cell_type": "code",
   "execution_count": null,
   "id": "918abe46-be9a-4c93-98d7-30dc393acead",
   "metadata": {},
   "outputs": [],
   "source": []
  }
 ],
 "metadata": {
  "kernelspec": {
   "display_name": "Python 3 (ipykernel)",
   "language": "python",
   "name": "python3"
  },
  "language_info": {
   "codemirror_mode": {
    "name": "ipython",
    "version": 3
   },
   "file_extension": ".py",
   "mimetype": "text/x-python",
   "name": "python",
   "nbconvert_exporter": "python",
   "pygments_lexer": "ipython3",
   "version": "3.12.8"
  }
 },
 "nbformat": 4,
 "nbformat_minor": 5
}
