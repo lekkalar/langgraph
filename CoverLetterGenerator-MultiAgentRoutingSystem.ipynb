{
 "cells": [
  {
   "cell_type": "code",
   "execution_count": 20,
   "id": "a6fa7cd5-9646-4293-811b-b9441f4983d1",
   "metadata": {},
   "outputs": [],
   "source": [
    "%%capture\n",
    "%pip install langchain-openai==0.3.27\n",
    "%pip install langgraph==0.6.6\n",
    "%pip install pygraphviz==1.14"
   ]
  },
  {
   "cell_type": "code",
   "execution_count": 21,
   "id": "0e76f37d-e2d8-4d33-bc32-2af2cd9e52dc",
   "metadata": {},
   "outputs": [],
   "source": [
    "from langgraph.graph import StateGraph, END,START\n",
    "from typing import TypedDict\n",
    "from pydantic import BaseModel, Field\n",
    "from langchain_openai import ChatOpenAI\n",
    "from langgraph.graph import END, StateGraph"
   ]
  },
  {
   "cell_type": "code",
   "execution_count": 22,
   "id": "3509b7cf-cb1e-424f-93b7-9b52e6d0a712",
   "metadata": {},
   "outputs": [],
   "source": [
    "def print_workflow_info(workflow, app=None):\n",
    "    \"\"\"Prints comprehensive information about a LangGraph workflow.\"\"\"\n",
    "    print(\"WORKFLOW INFORMATION\")\n",
    "    print(\"====================\")\n",
    "    print(f\"Nodes: {workflow.nodes}\")\n",
    "    print(f\"Edges: {workflow.edges}\")\n",
    "\n",
    "    \n",
    "    # Use getter method for finish points if available\n",
    "    try:\n",
    "        finish_points = workflow.finish_points\n",
    "        print(f\"Finish points: {finish_points}\")\n",
    "    except:\n",
    "        try:\n",
    "            # Alternative approaches\n",
    "            print(f\"Finish point: {workflow._finish_point}\")\n",
    "        except:\n",
    "            print(\"Finish points attribute not directly accessible\")\n",
    "    \n",
    "    if app:\n",
    "        print(\"\\nWorkflow Visualization:\")\n",
    "        from IPython.display import display\n",
    "        display(app.get_graph().draw_png())"
   ]
  },
  {
   "cell_type": "code",
   "execution_count": 23,
   "id": "2e63a037-0bb7-4cd1-88cc-4516792ff69b",
   "metadata": {},
   "outputs": [],
   "source": [
    "llm = ChatOpenAI(model=\"gpt-4o-mini\")"
   ]
  },
  {
   "cell_type": "code",
   "execution_count": 24,
   "id": "dd98b578-186e-4c69-8a4b-5987989d0f16",
   "metadata": {},
   "outputs": [],
   "source": [
    "class ChainState(TypedDict):\n",
    "    job_description: str\n",
    "    resume_summary: str\n",
    "    cover_letter: str"
   ]
  },
  {
   "cell_type": "code",
   "execution_count": 25,
   "id": "c344d040-8c9b-4de7-bbfe-c83711a6f178",
   "metadata": {},
   "outputs": [],
   "source": [
    "def generate_resume_summary(state: ChainState) -> ChainState:\n",
    "    prompt = f\"\"\"\n",
    "You're a resume assistant. Read the following job description and summarize the key qualifications and experience the ideal candidate should have, phrased as if from the perspective of a strong applicant's resume summary.\n",
    "\n",
    "Job Description:\n",
    "{state['job_description']}\n",
    "\"\"\"\n",
    "\n",
    "    response = llm.invoke(prompt)\n",
    "\n",
    "    return {**state, \"resume_summary\": response.content}"
   ]
  },
  {
   "cell_type": "code",
   "execution_count": 26,
   "id": "9582230b-dfd4-4e63-8f19-19774dcba076",
   "metadata": {},
   "outputs": [],
   "source": [
    "def generate_cover_letter(state: ChainState) -> ChainState:\n",
    "    prompt = f\"\"\"\n",
    "You're a cover letter writing assistant. Using the resume summary below, write a professional and personalized cover letter for the following job.\n",
    "\n",
    "Resume Summary:\n",
    "{state['resume_summary']}\n",
    "\n",
    "Job Description:\n",
    "{state['job_description']}\n",
    "\"\"\"\n",
    "\n",
    "    response = llm.invoke(prompt)\n",
    "\n",
    "    return {**state, \"cover_letter\": response.content}"
   ]
  },
  {
   "cell_type": "code",
   "execution_count": 27,
   "id": "ef8d9558-9479-4715-89bd-0f5ac19e3000",
   "metadata": {},
   "outputs": [
    {
     "data": {
      "text/plain": [
       "<langgraph.graph.state.StateGraph at 0x75d92efc03b0>"
      ]
     },
     "execution_count": 27,
     "metadata": {},
     "output_type": "execute_result"
    }
   ],
   "source": [
    "workflow = StateGraph(ChainState)\n",
    "workflow"
   ]
  },
  {
   "cell_type": "code",
   "execution_count": 28,
   "id": "88d5137d-2550-4956-b028-87ba3ae11548",
   "metadata": {},
   "outputs": [
    {
     "data": {
      "text/plain": [
       "<langgraph.graph.state.StateGraph at 0x75d92efc03b0>"
      ]
     },
     "execution_count": 28,
     "metadata": {},
     "output_type": "execute_result"
    }
   ],
   "source": [
    "workflow.add_node(\"generate_resume_summary\", generate_resume_summary)\n",
    "workflow.add_node(\"generate_cover_letter\", generate_cover_letter)"
   ]
  },
  {
   "cell_type": "code",
   "execution_count": 29,
   "id": "e8f87d11-d8c5-4df7-a1cf-fd18c6461089",
   "metadata": {},
   "outputs": [
    {
     "data": {
      "text/plain": [
       "<langgraph.graph.state.StateGraph at 0x75d92efc03b0>"
      ]
     },
     "execution_count": 29,
     "metadata": {},
     "output_type": "execute_result"
    }
   ],
   "source": [
    "workflow.set_entry_point(\"generate_resume_summary\")"
   ]
  },
  {
   "cell_type": "code",
   "execution_count": 30,
   "id": "a1cd1932-7273-4f28-b11f-5f470e459bdf",
   "metadata": {},
   "outputs": [
    {
     "data": {
      "text/plain": [
       "<langgraph.graph.state.StateGraph at 0x75d92efc03b0>"
      ]
     },
     "execution_count": 30,
     "metadata": {},
     "output_type": "execute_result"
    }
   ],
   "source": [
    "workflow.add_edge(\"generate_resume_summary\", \"generate_cover_letter\")"
   ]
  },
  {
   "cell_type": "code",
   "execution_count": 31,
   "id": "bea78bf6-bd1c-4b9f-a1db-8dec20c0d54b",
   "metadata": {},
   "outputs": [
    {
     "data": {
      "text/plain": [
       "<langgraph.graph.state.StateGraph at 0x75d92efc03b0>"
      ]
     },
     "execution_count": 31,
     "metadata": {},
     "output_type": "execute_result"
    }
   ],
   "source": [
    "workflow.set_finish_point(\"generate_cover_letter\")"
   ]
  },
  {
   "cell_type": "code",
   "execution_count": 32,
   "id": "d7623f43-7f5a-4fab-84dd-8ae4c26d09fb",
   "metadata": {},
   "outputs": [
    {
     "name": "stdout",
     "output_type": "stream",
     "text": [
      "WORKFLOW INFORMATION\n",
      "====================\n",
      "Nodes: {'generate_resume_summary': StateNodeSpec(runnable=generate_resume_summary(tags=None, recurse=True, explode_args=False, func_accepts={}), metadata=None, input_schema=<class '__main__.ChainState'>, retry_policy=None, cache_policy=None, ends=(), defer=False), 'generate_cover_letter': StateNodeSpec(runnable=generate_cover_letter(tags=None, recurse=True, explode_args=False, func_accepts={}), metadata=None, input_schema=<class '__main__.ChainState'>, retry_policy=None, cache_policy=None, ends=(), defer=False)}\n",
      "Edges: {('__start__', 'generate_resume_summary'), ('generate_resume_summary', 'generate_cover_letter'), ('generate_cover_letter', '__end__')}\n",
      "Finish points attribute not directly accessible\n"
     ]
    }
   ],
   "source": [
    "print_workflow_info(workflow)"
   ]
  },
  {
   "cell_type": "code",
   "execution_count": 33,
   "id": "2f19cc60-8b5f-405c-9abb-7ea3f48f96ed",
   "metadata": {},
   "outputs": [],
   "source": [
    "app = workflow.compile()"
   ]
  },
  {
   "cell_type": "code",
   "execution_count": 34,
   "id": "5afb6407-67c5-4458-b501-5105a2d6b306",
   "metadata": {},
   "outputs": [
    {
     "data": {
      "image/png": "[encoded data removed]",
      "text/plain": [
       "<IPython.core.display.Image object>"
      ]
     },
     "metadata": {},
     "output_type": "display_data"
    }
   ],
   "source": [
    "from IPython.display import Image, display\n",
    "\n",
    "# Generate a visualization of the workflow graph\n",
    "display(Image(app.get_graph().draw_png()))"
   ]
  },
  {
   "cell_type": "code",
   "execution_count": 35,
   "id": "d6080fbe-7cb0-4ce0-b4fc-1f2a8010a618",
   "metadata": {},
   "outputs": [],
   "source": [
    "input_state = {\n",
    "        \"job_description\": \"We are looking for a data scientist with experience in machine learning, NLP, and Python. Prior work with large datasets and experience deploying models into production is required.\"\n",
    "}\n",
    "\n",
    "result = app.invoke(input_state)"
   ]
  },
  {
   "cell_type": "code",
   "execution_count": 36,
   "id": "1e759d88-34aa-450e-9fc8-7f7f24124046",
   "metadata": {},
   "outputs": [
    {
     "data": {
      "text/plain": [
       "'Results-driven data scientist with extensive experience in machine learning and natural language processing (NLP). Proficient in Python and skilled in working with large datasets, I have successfully deployed machine learning models into production environments, demonstrating a strong ability to translate complex data into actionable insights. Committed to leveraging advanced analytical techniques to drive business solutions and enhance decision-making processes.'"
      ]
     },
     "execution_count": 36,
     "metadata": {},
     "output_type": "execute_result"
    }
   ],
   "source": [
    "result['resume_summary']"
   ]
  },
  {
   "cell_type": "code",
   "execution_count": 37,
   "id": "da537d3f-611e-4210-9776-859c8930d7b4",
   "metadata": {},
   "outputs": [
    {
     "data": {
      "text/plain": [
       "\"[Your Name]  \\n[Your Address]  \\n[City, State, Zip]  \\n[Your Email]  \\n[Your Phone]  \\n[Date]  \\n\\n[Hiring Manager's Name]  \\n[Company Name]  \\n[Company Address]  \\n[City, State, Zip]  \\n\\nDear [Hiring Manager's Name],\\n\\nI am excited to apply for the Data Scientist position at [Company Name], as advertised. With my extensive experience in machine learning and natural language processing (NLP), along with my proficiency in Python, I am confident in my ability to contribute effectively to your team and help drive impactful data-driven solutions.\\n\\nIn my previous roles, I have successfully worked with large datasets and deployed machine learning models into production environments, providing me with a robust understanding of the complexities involved in processing and analyzing significant volumes of data. This hands-on experience has not only honed my technical skills but has also equipped me with the ability to translate complex data findings into actionable insights that can influence strategic decision-making.\\n\\nOne of my proudest achievements involved developing an NLP model that improved customer sentiment analysis for a previous employer. By implementing advanced analytical techniques and leveraging machine learning algorithms, I was able to enhance the accuracy of our insights, which directly contributed to refining our marketing strategies and improving customer engagement.\\n\\nI am particularly drawn to this opportunity at [Company Name] because of your commitment to leveraging data to drive innovation and make informed business decisions. I am eager to bring my results-driven approach and passion for data science to your team. \\n\\nThank you for considering my application. I look forward to the opportunity to discuss how my experience and skills align with the needs of [Company Name]. Please feel free to contact me at [Your Phone] or [Your Email] to arrange a conversation.\\n\\nSincerely,  \\n\\n[Your Name]  \""
      ]
     },
     "execution_count": 37,
     "metadata": {},
     "output_type": "execute_result"
    }
   ],
   "source": [
    "result['cover_letter']"
   ]
  },
  {
   "cell_type": "code",
   "execution_count": null,
   "id": "597cc861-a471-4a0f-824b-45a240cee008",
   "metadata": {},
   "outputs": [],
   "source": []
  }
 ],
 "metadata": {
  "kernelspec": {
   "display_name": "Python 3 (ipykernel)",
   "language": "python",
   "name": "python3"
  },
  "language_info": {
   "codemirror_mode": {
    "name": "ipython",
    "version": 3
   },
   "file_extension": ".py",
   "mimetype": "text/x-python",
   "name": "python",
   "nbconvert_exporter": "python",
   "pygments_lexer": "ipython3",
   "version": "3.12.8"
  }
 },
 "nbformat": 4,
 "nbformat_minor": 5
}
