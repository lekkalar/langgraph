{
 "cells": [
  {
   "cell_type": "code",
   "execution_count": 2,
   "id": "9ebbf904-d0c2-4c5f-9055-81aa42479eb0",
   "metadata": {},
   "outputs": [
    {
     "name": "stdout",
     "output_type": "stream",
     "text": [
      "\u001b[33mWARNING: Ignoring invalid distribution ~ip (/opt/conda/lib/python3.12/site-packages)\u001b[0m\u001b[33m\n",
      "\u001b[0mRequirement already satisfied: langgraph==0.3.31 in /opt/conda/lib/python3.12/site-packages (0.3.31)\n",
      "Requirement already satisfied: langchain-core<0.4,>=0.1 in /opt/conda/lib/python3.12/site-packages (from langgraph==0.3.31) (0.3.75)\n",
      "Requirement already satisfied: langgraph-checkpoint<3.0.0,>=2.0.10 in /opt/conda/lib/python3.12/site-packages (from langgraph==0.3.31) (2.1.1)\n",
      "Requirement already satisfied: langgraph-prebuilt<0.2,>=0.1.8 in /opt/conda/lib/python3.12/site-packages (from langgraph==0.3.31) (0.1.8)\n",
      "Requirement already satisfied: langgraph-sdk<0.2.0,>=0.1.42 in /opt/conda/lib/python3.12/site-packages (from langgraph==0.3.31) (0.1.74)\n",
      "Requirement already satisfied: xxhash<4.0.0,>=3.5.0 in /opt/conda/lib/python3.12/site-packages (from langgraph==0.3.31) (3.5.0)\n",
      "Requirement already satisfied: langsmith>=0.3.45 in /opt/conda/lib/python3.12/site-packages (from langchain-core<0.4,>=0.1->langgraph==0.3.31) (0.4.20)\n",
      "Requirement already satisfied: tenacity!=8.4.0,<10.0.0,>=8.1.0 in /opt/conda/lib/python3.12/site-packages (from langchain-core<0.4,>=0.1->langgraph==0.3.31) (9.1.2)\n",
      "Requirement already satisfied: jsonpatch<2.0,>=1.33 in /opt/conda/lib/python3.12/site-packages (from langchain-core<0.4,>=0.1->langgraph==0.3.31) (1.33)\n",
      "Requirement already satisfied: PyYAML>=5.3 in /opt/conda/lib/python3.12/site-packages (from langchain-core<0.4,>=0.1->langgraph==0.3.31) (6.0.2)\n",
      "Requirement already satisfied: typing-extensions>=4.7 in /opt/conda/lib/python3.12/site-packages (from langchain-core<0.4,>=0.1->langgraph==0.3.31) (4.12.2)\n",
      "Requirement already satisfied: packaging>=23.2 in /opt/conda/lib/python3.12/site-packages (from langchain-core<0.4,>=0.1->langgraph==0.3.31) (24.2)\n",
      "Requirement already satisfied: pydantic>=2.7.4 in /opt/conda/lib/python3.12/site-packages (from langchain-core<0.4,>=0.1->langgraph==0.3.31) (2.10.6)\n",
      "Requirement already satisfied: ormsgpack>=1.10.0 in /opt/conda/lib/python3.12/site-packages (from langgraph-checkpoint<3.0.0,>=2.0.10->langgraph==0.3.31) (1.10.0)\n",
      "Requirement already satisfied: httpx>=0.25.2 in /opt/conda/lib/python3.12/site-packages (from langgraph-sdk<0.2.0,>=0.1.42->langgraph==0.3.31) (0.28.1)\n",
      "Requirement already satisfied: orjson>=3.10.1 in /opt/conda/lib/python3.12/site-packages (from langgraph-sdk<0.2.0,>=0.1.42->langgraph==0.3.31) (3.11.3)\n",
      "Requirement already satisfied: anyio in /opt/conda/lib/python3.12/site-packages (from httpx>=0.25.2->langgraph-sdk<0.2.0,>=0.1.42->langgraph==0.3.31) (4.8.0)\n",
      "Requirement already satisfied: certifi in /opt/conda/lib/python3.12/site-packages (from httpx>=0.25.2->langgraph-sdk<0.2.0,>=0.1.42->langgraph==0.3.31) (2024.12.14)\n",
      "Requirement already satisfied: httpcore==1.* in /opt/conda/lib/python3.12/site-packages (from httpx>=0.25.2->langgraph-sdk<0.2.0,>=0.1.42->langgraph==0.3.31) (1.0.7)\n",
      "Requirement already satisfied: idna in /opt/conda/lib/python3.12/site-packages (from httpx>=0.25.2->langgraph-sdk<0.2.0,>=0.1.42->langgraph==0.3.31) (3.10)\n",
      "Requirement already satisfied: h11<0.15,>=0.13 in /opt/conda/lib/python3.12/site-packages (from httpcore==1.*->httpx>=0.25.2->langgraph-sdk<0.2.0,>=0.1.42->langgraph==0.3.31) (0.14.0)\n",
      "Requirement already satisfied: jsonpointer>=1.9 in /opt/conda/lib/python3.12/site-packages (from jsonpatch<2.0,>=1.33->langchain-core<0.4,>=0.1->langgraph==0.3.31) (3.0.0)\n",
      "Requirement already satisfied: requests-toolbelt>=1.0.0 in /opt/conda/lib/python3.12/site-packages (from langsmith>=0.3.45->langchain-core<0.4,>=0.1->langgraph==0.3.31) (1.0.0)\n",
      "Requirement already satisfied: requests>=2.0.0 in /opt/conda/lib/python3.12/site-packages (from langsmith>=0.3.45->langchain-core<0.4,>=0.1->langgraph==0.3.31) (2.32.5)\n",
      "Requirement already satisfied: zstandard>=0.23.0 in /opt/conda/lib/python3.12/site-packages (from langsmith>=0.3.45->langchain-core<0.4,>=0.1->langgraph==0.3.31) (0.23.0)\n",
      "Requirement already satisfied: annotated-types>=0.6.0 in /opt/conda/lib/python3.12/site-packages (from pydantic>=2.7.4->langchain-core<0.4,>=0.1->langgraph==0.3.31) (0.7.0)\n",
      "Requirement already satisfied: pydantic-core==2.27.2 in /opt/conda/lib/python3.12/site-packages (from pydantic>=2.7.4->langchain-core<0.4,>=0.1->langgraph==0.3.31) (2.27.2)\n",
      "Requirement already satisfied: charset_normalizer<4,>=2 in /opt/conda/lib/python3.12/site-packages (from requests>=2.0.0->langsmith>=0.3.45->langchain-core<0.4,>=0.1->langgraph==0.3.31) (3.4.1)\n",
      "Requirement already satisfied: urllib3<3,>=1.21.1 in /opt/conda/lib/python3.12/site-packages (from requests>=2.0.0->langsmith>=0.3.45->langchain-core<0.4,>=0.1->langgraph==0.3.31) (2.5.0)\n",
      "Requirement already satisfied: sniffio>=1.1 in /opt/conda/lib/python3.12/site-packages (from anyio->httpx>=0.25.2->langgraph-sdk<0.2.0,>=0.1.42->langgraph==0.3.31) (1.3.1)\n",
      "\u001b[33mWARNING: Ignoring invalid distribution ~ip (/opt/conda/lib/python3.12/site-packages)\u001b[0m\u001b[33m\n",
      "\u001b[33mWARNING: Ignoring invalid distribution ~ip (/opt/conda/lib/python3.12/site-packages)\u001b[0m\u001b[33m\n",
      "Note: you may need to restart the kernel to use updated packages.\n",
      "\u001b[33mWARNING: Ignoring invalid distribution ~ip (/opt/conda/lib/python3.12/site-packages)\u001b[0m\u001b[33m\n",
      "Collecting langchain-ibm==0.3.10\n",
      "  Using cached langchain_ibm-0.3.10-py3-none-any.whl.metadata (5.2 kB)\n",
      "Collecting ibm-watsonx-ai<2.0.0,>=1.2.10 (from langchain-ibm==0.3.10)\n",
      "  Using cached ibm_watsonx_ai-1.3.36-py3-none-any.whl.metadata (7.0 kB)\n",
      "Requirement already satisfied: langchain-core<0.4.0,>=0.3.39 in /opt/conda/lib/python3.12/site-packages (from langchain-ibm==0.3.10) (0.3.75)\n",
      "Requirement already satisfied: requests in /opt/conda/lib/python3.12/site-packages (from ibm-watsonx-ai<2.0.0,>=1.2.10->langchain-ibm==0.3.10) (2.32.5)\n",
      "Requirement already satisfied: httpx<0.29,>=0.27 in /opt/conda/lib/python3.12/site-packages (from ibm-watsonx-ai<2.0.0,>=1.2.10->langchain-ibm==0.3.10) (0.28.1)\n",
      "Requirement already satisfied: urllib3 in /opt/conda/lib/python3.12/site-packages (from ibm-watsonx-ai<2.0.0,>=1.2.10->langchain-ibm==0.3.10) (2.5.0)\n",
      "Requirement already satisfied: pandas<2.3.0,>=0.24.2 in /opt/conda/lib/python3.12/site-packages (from ibm-watsonx-ai<2.0.0,>=1.2.10->langchain-ibm==0.3.10) (2.2.3)\n",
      "Requirement already satisfied: certifi in /opt/conda/lib/python3.12/site-packages (from ibm-watsonx-ai<2.0.0,>=1.2.10->langchain-ibm==0.3.10) (2024.12.14)\n",
      "Requirement already satisfied: lomond in /opt/conda/lib/python3.12/site-packages (from ibm-watsonx-ai<2.0.0,>=1.2.10->langchain-ibm==0.3.10) (0.3.3)\n",
      "Requirement already satisfied: tabulate in /opt/conda/lib/python3.12/site-packages (from ibm-watsonx-ai<2.0.0,>=1.2.10->langchain-ibm==0.3.10) (0.9.0)\n",
      "Requirement already satisfied: packaging in /opt/conda/lib/python3.12/site-packages (from ibm-watsonx-ai<2.0.0,>=1.2.10->langchain-ibm==0.3.10) (24.2)\n",
      "Collecting ibm-cos-sdk<2.15.0,>=2.12.0 (from ibm-watsonx-ai<2.0.0,>=1.2.10->langchain-ibm==0.3.10)\n",
      "  Using cached ibm_cos_sdk-2.14.3-py3-none-any.whl\n",
      "Requirement already satisfied: cachetools in /opt/conda/lib/python3.12/site-packages (from ibm-watsonx-ai<2.0.0,>=1.2.10->langchain-ibm==0.3.10) (6.2.0)\n",
      "Requirement already satisfied: langsmith>=0.3.45 in /opt/conda/lib/python3.12/site-packages (from langchain-core<0.4.0,>=0.3.39->langchain-ibm==0.3.10) (0.4.20)\n",
      "Requirement already satisfied: tenacity!=8.4.0,<10.0.0,>=8.1.0 in /opt/conda/lib/python3.12/site-packages (from langchain-core<0.4.0,>=0.3.39->langchain-ibm==0.3.10) (9.1.2)\n",
      "Requirement already satisfied: jsonpatch<2.0,>=1.33 in /opt/conda/lib/python3.12/site-packages (from langchain-core<0.4.0,>=0.3.39->langchain-ibm==0.3.10) (1.33)\n",
      "Requirement already satisfied: PyYAML>=5.3 in /opt/conda/lib/python3.12/site-packages (from langchain-core<0.4.0,>=0.3.39->langchain-ibm==0.3.10) (6.0.2)\n",
      "Requirement already satisfied: typing-extensions>=4.7 in /opt/conda/lib/python3.12/site-packages (from langchain-core<0.4.0,>=0.3.39->langchain-ibm==0.3.10) (4.12.2)\n",
      "Requirement already satisfied: pydantic>=2.7.4 in /opt/conda/lib/python3.12/site-packages (from langchain-core<0.4.0,>=0.3.39->langchain-ibm==0.3.10) (2.10.6)\n",
      "Requirement already satisfied: anyio in /opt/conda/lib/python3.12/site-packages (from httpx<0.29,>=0.27->ibm-watsonx-ai<2.0.0,>=1.2.10->langchain-ibm==0.3.10) (4.8.0)\n",
      "Requirement already satisfied: httpcore==1.* in /opt/conda/lib/python3.12/site-packages (from httpx<0.29,>=0.27->ibm-watsonx-ai<2.0.0,>=1.2.10->langchain-ibm==0.3.10) (1.0.7)\n",
      "Requirement already satisfied: idna in /opt/conda/lib/python3.12/site-packages (from httpx<0.29,>=0.27->ibm-watsonx-ai<2.0.0,>=1.2.10->langchain-ibm==0.3.10) (3.10)\n",
      "Requirement already satisfied: h11<0.15,>=0.13 in /opt/conda/lib/python3.12/site-packages (from httpcore==1.*->httpx<0.29,>=0.27->ibm-watsonx-ai<2.0.0,>=1.2.10->langchain-ibm==0.3.10) (0.14.0)\n",
      "Collecting ibm-cos-sdk-core==2.14.3 (from ibm-cos-sdk<2.15.0,>=2.12.0->ibm-watsonx-ai<2.0.0,>=1.2.10->langchain-ibm==0.3.10)\n",
      "  Using cached ibm_cos_sdk_core-2.14.3-py3-none-any.whl\n",
      "Collecting ibm-cos-sdk-s3transfer==2.14.3 (from ibm-cos-sdk<2.15.0,>=2.12.0->ibm-watsonx-ai<2.0.0,>=1.2.10->langchain-ibm==0.3.10)\n",
      "  Using cached ibm_cos_sdk_s3transfer-2.14.3-py3-none-any.whl\n",
      "Requirement already satisfied: jmespath<=1.0.1,>=0.10.0 in /opt/conda/lib/python3.12/site-packages (from ibm-cos-sdk<2.15.0,>=2.12.0->ibm-watsonx-ai<2.0.0,>=1.2.10->langchain-ibm==0.3.10) (1.0.1)\n",
      "Requirement already satisfied: python-dateutil<3.0.0,>=2.9.0 in /opt/conda/lib/python3.12/site-packages (from ibm-cos-sdk-core==2.14.3->ibm-cos-sdk<2.15.0,>=2.12.0->ibm-watsonx-ai<2.0.0,>=1.2.10->langchain-ibm==0.3.10) (2.9.0.post0)\n",
      "Requirement already satisfied: jsonpointer>=1.9 in /opt/conda/lib/python3.12/site-packages (from jsonpatch<2.0,>=1.33->langchain-core<0.4.0,>=0.3.39->langchain-ibm==0.3.10) (3.0.0)\n",
      "Requirement already satisfied: orjson>=3.9.14 in /opt/conda/lib/python3.12/site-packages (from langsmith>=0.3.45->langchain-core<0.4.0,>=0.3.39->langchain-ibm==0.3.10) (3.11.3)\n",
      "Requirement already satisfied: requests-toolbelt>=1.0.0 in /opt/conda/lib/python3.12/site-packages (from langsmith>=0.3.45->langchain-core<0.4.0,>=0.3.39->langchain-ibm==0.3.10) (1.0.0)\n",
      "Requirement already satisfied: zstandard>=0.23.0 in /opt/conda/lib/python3.12/site-packages (from langsmith>=0.3.45->langchain-core<0.4.0,>=0.3.39->langchain-ibm==0.3.10) (0.23.0)\n",
      "Requirement already satisfied: numpy>=1.26.0 in /opt/conda/lib/python3.12/site-packages (from pandas<2.3.0,>=0.24.2->ibm-watsonx-ai<2.0.0,>=1.2.10->langchain-ibm==0.3.10) (2.3.2)\n",
      "Requirement already satisfied: pytz>=2020.1 in /opt/conda/lib/python3.12/site-packages (from pandas<2.3.0,>=0.24.2->ibm-watsonx-ai<2.0.0,>=1.2.10->langchain-ibm==0.3.10) (2024.2)\n",
      "Requirement already satisfied: tzdata>=2022.7 in /opt/conda/lib/python3.12/site-packages (from pandas<2.3.0,>=0.24.2->ibm-watsonx-ai<2.0.0,>=1.2.10->langchain-ibm==0.3.10) (2025.2)\n",
      "Requirement already satisfied: annotated-types>=0.6.0 in /opt/conda/lib/python3.12/site-packages (from pydantic>=2.7.4->langchain-core<0.4.0,>=0.3.39->langchain-ibm==0.3.10) (0.7.0)\n",
      "Requirement already satisfied: pydantic-core==2.27.2 in /opt/conda/lib/python3.12/site-packages (from pydantic>=2.7.4->langchain-core<0.4.0,>=0.3.39->langchain-ibm==0.3.10) (2.27.2)\n",
      "Requirement already satisfied: charset_normalizer<4,>=2 in /opt/conda/lib/python3.12/site-packages (from requests->ibm-watsonx-ai<2.0.0,>=1.2.10->langchain-ibm==0.3.10) (3.4.1)\n",
      "Requirement already satisfied: six>=1.10.0 in /opt/conda/lib/python3.12/site-packages (from lomond->ibm-watsonx-ai<2.0.0,>=1.2.10->langchain-ibm==0.3.10) (1.17.0)\n",
      "Requirement already satisfied: sniffio>=1.1 in /opt/conda/lib/python3.12/site-packages (from anyio->httpx<0.29,>=0.27->ibm-watsonx-ai<2.0.0,>=1.2.10->langchain-ibm==0.3.10) (1.3.1)\n",
      "Using cached langchain_ibm-0.3.10-py3-none-any.whl (28 kB)\n",
      "Using cached ibm_watsonx_ai-1.3.36-py3-none-any.whl (1.2 MB)\n",
      "\u001b[33mWARNING: Ignoring invalid distribution ~ip (/opt/conda/lib/python3.12/site-packages)\u001b[0m\u001b[33m\n",
      "Installing collected packages: ibm-cos-sdk-core, ibm-cos-sdk-s3transfer, ibm-cos-sdk, ibm-watsonx-ai, langchain-ibm\n",
      "\u001b[33mWARNING: Ignoring invalid distribution ~ip (/opt/conda/lib/python3.12/site-packages)\u001b[0m\u001b[33m\n",
      "\u001b[0mSuccessfully installed ibm-cos-sdk-2.14.3 ibm-cos-sdk-core-2.14.3 ibm-cos-sdk-s3transfer-2.14.3 ibm-watsonx-ai-1.3.36 langchain-ibm-0.3.10\n",
      "Note: you may need to restart the kernel to use updated packages.\n",
      "\u001b[33mWARNING: Ignoring invalid distribution ~ip (/opt/conda/lib/python3.12/site-packages)\u001b[0m\u001b[33m\n",
      "Collecting langchain==0.3.23\n",
      "  Using cached langchain-0.3.23-py3-none-any.whl.metadata (7.8 kB)\n",
      "Requirement already satisfied: langchain-core<1.0.0,>=0.3.51 in /opt/conda/lib/python3.12/site-packages (from langchain==0.3.23) (0.3.75)\n",
      "Collecting langchain-text-splitters<1.0.0,>=0.3.8 (from langchain==0.3.23)\n",
      "  Using cached langchain_text_splitters-0.3.10-py3-none-any.whl.metadata (1.9 kB)\n",
      "Collecting langsmith<0.4,>=0.1.17 (from langchain==0.3.23)\n",
      "  Using cached langsmith-0.3.45-py3-none-any.whl.metadata (15 kB)\n",
      "Requirement already satisfied: pydantic<3.0.0,>=2.7.4 in /opt/conda/lib/python3.12/site-packages (from langchain==0.3.23) (2.10.6)\n",
      "Requirement already satisfied: SQLAlchemy<3,>=1.4 in /opt/conda/lib/python3.12/site-packages (from langchain==0.3.23) (2.0.37)\n",
      "Requirement already satisfied: requests<3,>=2 in /opt/conda/lib/python3.12/site-packages (from langchain==0.3.23) (2.32.5)\n",
      "Requirement already satisfied: PyYAML>=5.3 in /opt/conda/lib/python3.12/site-packages (from langchain==0.3.23) (6.0.2)\n",
      "Requirement already satisfied: tenacity!=8.4.0,<10.0.0,>=8.1.0 in /opt/conda/lib/python3.12/site-packages (from langchain-core<1.0.0,>=0.3.51->langchain==0.3.23) (9.1.2)\n",
      "Requirement already satisfied: jsonpatch<2.0,>=1.33 in /opt/conda/lib/python3.12/site-packages (from langchain-core<1.0.0,>=0.3.51->langchain==0.3.23) (1.33)\n",
      "Requirement already satisfied: typing-extensions>=4.7 in /opt/conda/lib/python3.12/site-packages (from langchain-core<1.0.0,>=0.3.51->langchain==0.3.23) (4.12.2)\n",
      "Requirement already satisfied: packaging>=23.2 in /opt/conda/lib/python3.12/site-packages (from langchain-core<1.0.0,>=0.3.51->langchain==0.3.23) (24.2)\n",
      "Collecting pip>=25.2 (from langchain-text-splitters<1.0.0,>=0.3.8->langchain==0.3.23)\n",
      "  Using cached pip-25.2-py3-none-any.whl.metadata (4.7 kB)\n",
      "Requirement already satisfied: httpx<1,>=0.23.0 in /opt/conda/lib/python3.12/site-packages (from langsmith<0.4,>=0.1.17->langchain==0.3.23) (0.28.1)\n",
      "Requirement already satisfied: orjson<4.0.0,>=3.9.14 in /opt/conda/lib/python3.12/site-packages (from langsmith<0.4,>=0.1.17->langchain==0.3.23) (3.11.3)\n",
      "Requirement already satisfied: requests-toolbelt<2.0.0,>=1.0.0 in /opt/conda/lib/python3.12/site-packages (from langsmith<0.4,>=0.1.17->langchain==0.3.23) (1.0.0)\n",
      "Requirement already satisfied: zstandard<0.24.0,>=0.23.0 in /opt/conda/lib/python3.12/site-packages (from langsmith<0.4,>=0.1.17->langchain==0.3.23) (0.23.0)\n",
      "Requirement already satisfied: annotated-types>=0.6.0 in /opt/conda/lib/python3.12/site-packages (from pydantic<3.0.0,>=2.7.4->langchain==0.3.23) (0.7.0)\n",
      "Requirement already satisfied: pydantic-core==2.27.2 in /opt/conda/lib/python3.12/site-packages (from pydantic<3.0.0,>=2.7.4->langchain==0.3.23) (2.27.2)\n",
      "Requirement already satisfied: charset_normalizer<4,>=2 in /opt/conda/lib/python3.12/site-packages (from requests<3,>=2->langchain==0.3.23) (3.4.1)\n",
      "Requirement already satisfied: idna<4,>=2.5 in /opt/conda/lib/python3.12/site-packages (from requests<3,>=2->langchain==0.3.23) (3.10)\n",
      "Requirement already satisfied: urllib3<3,>=1.21.1 in /opt/conda/lib/python3.12/site-packages (from requests<3,>=2->langchain==0.3.23) (2.5.0)\n",
      "Requirement already satisfied: certifi>=2017.4.17 in /opt/conda/lib/python3.12/site-packages (from requests<3,>=2->langchain==0.3.23) (2024.12.14)\n",
      "Requirement already satisfied: greenlet!=0.4.17 in /opt/conda/lib/python3.12/site-packages (from SQLAlchemy<3,>=1.4->langchain==0.3.23) (3.1.1)\n",
      "Requirement already satisfied: anyio in /opt/conda/lib/python3.12/site-packages (from httpx<1,>=0.23.0->langsmith<0.4,>=0.1.17->langchain==0.3.23) (4.8.0)\n",
      "Requirement already satisfied: httpcore==1.* in /opt/conda/lib/python3.12/site-packages (from httpx<1,>=0.23.0->langsmith<0.4,>=0.1.17->langchain==0.3.23) (1.0.7)\n",
      "Requirement already satisfied: h11<0.15,>=0.13 in /opt/conda/lib/python3.12/site-packages (from httpcore==1.*->httpx<1,>=0.23.0->langsmith<0.4,>=0.1.17->langchain==0.3.23) (0.14.0)\n",
      "Requirement already satisfied: jsonpointer>=1.9 in /opt/conda/lib/python3.12/site-packages (from jsonpatch<2.0,>=1.33->langchain-core<1.0.0,>=0.3.51->langchain==0.3.23) (3.0.0)\n",
      "Requirement already satisfied: sniffio>=1.1 in /opt/conda/lib/python3.12/site-packages (from anyio->httpx<1,>=0.23.0->langsmith<0.4,>=0.1.17->langchain==0.3.23) (1.3.1)\n",
      "Using cached langchain-0.3.23-py3-none-any.whl (1.0 MB)\n",
      "Using cached langchain_text_splitters-0.3.10-py3-none-any.whl (34 kB)\n",
      "Using cached langsmith-0.3.45-py3-none-any.whl (363 kB)\n",
      "Using cached pip-25.2-py3-none-any.whl (1.8 MB)\n",
      "\u001b[33mWARNING: Ignoring invalid distribution ~ip (/opt/conda/lib/python3.12/site-packages)\u001b[0m\u001b[33m\n",
      "Installing collected packages: pip, langsmith, langchain-text-splitters, langchain\n",
      "  Attempting uninstall: langsmith\n",
      "\u001b[33m    WARNING: Ignoring invalid distribution ~ip (/opt/conda/lib/python3.12/site-packages)\u001b[0m\u001b[33m\n",
      "\u001b[0m    Found existing installation: langsmith 0.4.20\n",
      "    Uninstalling langsmith-0.4.20:\n",
      "      Successfully uninstalled langsmith-0.4.20\n",
      "\u001b[33mWARNING: Ignoring invalid distribution ~ip (/opt/conda/lib/python3.12/site-packages)\u001b[0m\u001b[33m\n",
      "\u001b[0mSuccessfully installed langchain-0.3.23 langchain-text-splitters-0.3.10 langsmith-0.3.45 pip-25.2\n",
      "Note: you may need to restart the kernel to use updated packages.\n",
      "\u001b[33mWARNING: Ignoring invalid distribution ~ip (/opt/conda/lib/python3.12/site-packages)\u001b[0m\u001b[33m\n",
      "Collecting langchain_community==0.3.21\n",
      "  Downloading langchain_community-0.3.21-py3-none-any.whl.metadata (2.4 kB)\n",
      "Requirement already satisfied: langchain-core<1.0.0,>=0.3.51 in /opt/conda/lib/python3.12/site-packages (from langchain_community==0.3.21) (0.3.75)\n",
      "Requirement already satisfied: langchain<1.0.0,>=0.3.23 in /opt/conda/lib/python3.12/site-packages (from langchain_community==0.3.21) (0.3.23)\n",
      "Requirement already satisfied: SQLAlchemy<3,>=1.4 in /opt/conda/lib/python3.12/site-packages (from langchain_community==0.3.21) (2.0.37)\n",
      "Requirement already satisfied: requests<3,>=2 in /opt/conda/lib/python3.12/site-packages (from langchain_community==0.3.21) (2.32.5)\n",
      "Requirement already satisfied: PyYAML>=5.3 in /opt/conda/lib/python3.12/site-packages (from langchain_community==0.3.21) (6.0.2)\n",
      "Requirement already satisfied: aiohttp<4.0.0,>=3.8.3 in /opt/conda/lib/python3.12/site-packages (from langchain_community==0.3.21) (3.11.18)\n",
      "Requirement already satisfied: tenacity!=8.4.0,<10,>=8.1.0 in /opt/conda/lib/python3.12/site-packages (from langchain_community==0.3.21) (9.1.2)\n",
      "Collecting dataclasses-json<0.7,>=0.5.7 (from langchain_community==0.3.21)\n",
      "  Downloading dataclasses_json-0.6.7-py3-none-any.whl.metadata (25 kB)\n",
      "Collecting pydantic-settings<3.0.0,>=2.4.0 (from langchain_community==0.3.21)\n",
      "  Downloading pydantic_settings-2.10.1-py3-none-any.whl.metadata (3.4 kB)\n",
      "Requirement already satisfied: langsmith<0.4,>=0.1.125 in /opt/conda/lib/python3.12/site-packages (from langchain_community==0.3.21) (0.3.45)\n",
      "Collecting httpx-sse<1.0.0,>=0.4.0 (from langchain_community==0.3.21)\n",
      "  Downloading httpx_sse-0.4.1-py3-none-any.whl.metadata (9.4 kB)\n",
      "Requirement already satisfied: numpy<3,>=1.26.2 in /opt/conda/lib/python3.12/site-packages (from langchain_community==0.3.21) (2.3.2)\n",
      "Requirement already satisfied: aiohappyeyeballs>=2.3.0 in /opt/conda/lib/python3.12/site-packages (from aiohttp<4.0.0,>=3.8.3->langchain_community==0.3.21) (2.6.1)\n",
      "Requirement already satisfied: aiosignal>=1.1.2 in /opt/conda/lib/python3.12/site-packages (from aiohttp<4.0.0,>=3.8.3->langchain_community==0.3.21) (1.3.2)\n",
      "Requirement already satisfied: attrs>=17.3.0 in /opt/conda/lib/python3.12/site-packages (from aiohttp<4.0.0,>=3.8.3->langchain_community==0.3.21) (25.1.0)\n",
      "Requirement already satisfied: frozenlist>=1.1.1 in /opt/conda/lib/python3.12/site-packages (from aiohttp<4.0.0,>=3.8.3->langchain_community==0.3.21) (1.6.0)\n",
      "Requirement already satisfied: multidict<7.0,>=4.5 in /opt/conda/lib/python3.12/site-packages (from aiohttp<4.0.0,>=3.8.3->langchain_community==0.3.21) (6.4.3)\n",
      "Requirement already satisfied: propcache>=0.2.0 in /opt/conda/lib/python3.12/site-packages (from aiohttp<4.0.0,>=3.8.3->langchain_community==0.3.21) (0.3.1)\n",
      "Requirement already satisfied: yarl<2.0,>=1.17.0 in /opt/conda/lib/python3.12/site-packages (from aiohttp<4.0.0,>=3.8.3->langchain_community==0.3.21) (1.20.0)\n",
      "Collecting marshmallow<4.0.0,>=3.18.0 (from dataclasses-json<0.7,>=0.5.7->langchain_community==0.3.21)\n",
      "  Downloading marshmallow-3.26.1-py3-none-any.whl.metadata (7.3 kB)\n",
      "Collecting typing-inspect<1,>=0.4.0 (from dataclasses-json<0.7,>=0.5.7->langchain_community==0.3.21)\n",
      "  Downloading typing_inspect-0.9.0-py3-none-any.whl.metadata (1.5 kB)\n",
      "Requirement already satisfied: langchain-text-splitters<1.0.0,>=0.3.8 in /opt/conda/lib/python3.12/site-packages (from langchain<1.0.0,>=0.3.23->langchain_community==0.3.21) (0.3.10)\n",
      "Requirement already satisfied: pydantic<3.0.0,>=2.7.4 in /opt/conda/lib/python3.12/site-packages (from langchain<1.0.0,>=0.3.23->langchain_community==0.3.21) (2.10.6)\n",
      "Requirement already satisfied: jsonpatch<2.0,>=1.33 in /opt/conda/lib/python3.12/site-packages (from langchain-core<1.0.0,>=0.3.51->langchain_community==0.3.21) (1.33)\n",
      "Requirement already satisfied: typing-extensions>=4.7 in /opt/conda/lib/python3.12/site-packages (from langchain-core<1.0.0,>=0.3.51->langchain_community==0.3.21) (4.12.2)\n",
      "Requirement already satisfied: packaging>=23.2 in /opt/conda/lib/python3.12/site-packages (from langchain-core<1.0.0,>=0.3.51->langchain_community==0.3.21) (24.2)\n",
      "Requirement already satisfied: jsonpointer>=1.9 in /opt/conda/lib/python3.12/site-packages (from jsonpatch<2.0,>=1.33->langchain-core<1.0.0,>=0.3.51->langchain_community==0.3.21) (3.0.0)\n",
      "Requirement already satisfied: pip>=25.2 in /opt/conda/lib/python3.12/site-packages (from langchain-text-splitters<1.0.0,>=0.3.8->langchain<1.0.0,>=0.3.23->langchain_community==0.3.21) (25.2)\n",
      "Requirement already satisfied: httpx<1,>=0.23.0 in /opt/conda/lib/python3.12/site-packages (from langsmith<0.4,>=0.1.125->langchain_community==0.3.21) (0.28.1)\n",
      "Requirement already satisfied: orjson<4.0.0,>=3.9.14 in /opt/conda/lib/python3.12/site-packages (from langsmith<0.4,>=0.1.125->langchain_community==0.3.21) (3.11.3)\n",
      "Requirement already satisfied: requests-toolbelt<2.0.0,>=1.0.0 in /opt/conda/lib/python3.12/site-packages (from langsmith<0.4,>=0.1.125->langchain_community==0.3.21) (1.0.0)\n",
      "Requirement already satisfied: zstandard<0.24.0,>=0.23.0 in /opt/conda/lib/python3.12/site-packages (from langsmith<0.4,>=0.1.125->langchain_community==0.3.21) (0.23.0)\n",
      "Requirement already satisfied: anyio in /opt/conda/lib/python3.12/site-packages (from httpx<1,>=0.23.0->langsmith<0.4,>=0.1.125->langchain_community==0.3.21) (4.8.0)\n",
      "Requirement already satisfied: certifi in /opt/conda/lib/python3.12/site-packages (from httpx<1,>=0.23.0->langsmith<0.4,>=0.1.125->langchain_community==0.3.21) (2024.12.14)\n",
      "Requirement already satisfied: httpcore==1.* in /opt/conda/lib/python3.12/site-packages (from httpx<1,>=0.23.0->langsmith<0.4,>=0.1.125->langchain_community==0.3.21) (1.0.7)\n",
      "Requirement already satisfied: idna in /opt/conda/lib/python3.12/site-packages (from httpx<1,>=0.23.0->langsmith<0.4,>=0.1.125->langchain_community==0.3.21) (3.10)\n",
      "Requirement already satisfied: h11<0.15,>=0.13 in /opt/conda/lib/python3.12/site-packages (from httpcore==1.*->httpx<1,>=0.23.0->langsmith<0.4,>=0.1.125->langchain_community==0.3.21) (0.14.0)\n",
      "Requirement already satisfied: annotated-types>=0.6.0 in /opt/conda/lib/python3.12/site-packages (from pydantic<3.0.0,>=2.7.4->langchain<1.0.0,>=0.3.23->langchain_community==0.3.21) (0.7.0)\n",
      "Requirement already satisfied: pydantic-core==2.27.2 in /opt/conda/lib/python3.12/site-packages (from pydantic<3.0.0,>=2.7.4->langchain<1.0.0,>=0.3.23->langchain_community==0.3.21) (2.27.2)\n",
      "Collecting python-dotenv>=0.21.0 (from pydantic-settings<3.0.0,>=2.4.0->langchain_community==0.3.21)\n",
      "  Downloading python_dotenv-1.1.1-py3-none-any.whl.metadata (24 kB)\n",
      "Collecting typing-inspection>=0.4.0 (from pydantic-settings<3.0.0,>=2.4.0->langchain_community==0.3.21)\n",
      "  Downloading typing_inspection-0.4.1-py3-none-any.whl.metadata (2.6 kB)\n",
      "Requirement already satisfied: charset_normalizer<4,>=2 in /opt/conda/lib/python3.12/site-packages (from requests<3,>=2->langchain_community==0.3.21) (3.4.1)\n",
      "Requirement already satisfied: urllib3<3,>=1.21.1 in /opt/conda/lib/python3.12/site-packages (from requests<3,>=2->langchain_community==0.3.21) (2.5.0)\n",
      "Requirement already satisfied: greenlet!=0.4.17 in /opt/conda/lib/python3.12/site-packages (from SQLAlchemy<3,>=1.4->langchain_community==0.3.21) (3.1.1)\n",
      "Collecting mypy-extensions>=0.3.0 (from typing-inspect<1,>=0.4.0->dataclasses-json<0.7,>=0.5.7->langchain_community==0.3.21)\n",
      "  Downloading mypy_extensions-1.1.0-py3-none-any.whl.metadata (1.1 kB)\n",
      "Requirement already satisfied: sniffio>=1.1 in /opt/conda/lib/python3.12/site-packages (from anyio->httpx<1,>=0.23.0->langsmith<0.4,>=0.1.125->langchain_community==0.3.21) (1.3.1)\n",
      "Downloading langchain_community-0.3.21-py3-none-any.whl (2.5 MB)\n",
      "\u001b[2K   \u001b[90m━━━━━━━━━━━━━━━━━━━━━━━━━━━━━━━━━━━━━━━━\u001b[0m \u001b[32m2.5/2.5 MB\u001b[0m \u001b[31m100.3 MB/s\u001b[0m  \u001b[33m0:00:00\u001b[0m\n",
      "\u001b[?25hDownloading dataclasses_json-0.6.7-py3-none-any.whl (28 kB)\n",
      "Downloading httpx_sse-0.4.1-py3-none-any.whl (8.1 kB)\n",
      "Downloading marshmallow-3.26.1-py3-none-any.whl (50 kB)\n",
      "Downloading pydantic_settings-2.10.1-py3-none-any.whl (45 kB)\n",
      "Downloading typing_inspect-0.9.0-py3-none-any.whl (8.8 kB)\n",
      "Downloading mypy_extensions-1.1.0-py3-none-any.whl (5.0 kB)\n",
      "Downloading python_dotenv-1.1.1-py3-none-any.whl (20 kB)\n",
      "Downloading typing_inspection-0.4.1-py3-none-any.whl (14 kB)\n",
      "\u001b[33mWARNING: Ignoring invalid distribution ~ip (/opt/conda/lib/python3.12/site-packages)\u001b[0m\u001b[33m\n",
      "Installing collected packages: typing-inspection, python-dotenv, mypy-extensions, marshmallow, httpx-sse, typing-inspect, pydantic-settings, dataclasses-json, langchain_community\n",
      "\u001b[2K   \u001b[90m━━━━━━━━━━━━━━━━━━━━━━━━━━━━━━━━━━━━━━━━\u001b[0m \u001b[32m9/9\u001b[0m [langchain_community]ngchain_community]\n",
      "\u001b[33mWARNING: Ignoring invalid distribution ~ip (/opt/conda/lib/python3.12/site-packages)\u001b[0m\u001b[33m\n",
      "\u001b[0mSuccessfully installed dataclasses-json-0.6.7 httpx-sse-0.4.1 langchain_community-0.3.21 marshmallow-3.26.1 mypy-extensions-1.1.0 pydantic-settings-2.10.1 python-dotenv-1.1.1 typing-inspect-0.9.0 typing-inspection-0.4.1\n",
      "Note: you may need to restart the kernel to use updated packages.\n",
      "\u001b[33mWARNING: Ignoring invalid distribution ~ip (/opt/conda/lib/python3.12/site-packages)\u001b[0m\u001b[33m\n",
      "Collecting pygraphviz==1.14\n",
      "  Downloading pygraphviz-1.14.tar.gz (106 kB)\n",
      "  Installing build dependencies ... \u001b[?done\n",
      "\u001b[?25h  Getting requirements to build wheel ... \u001b[?25ldone\n",
      "\u001b[?25h  Preparing metadata (pyproject.toml) ... \u001b[?25ldone\n",
      "\u001b[?25hBuilding wheels for collected packages: pygraphviz\n",
      "  Building wheel for pygraphviz (pyproject.toml) ... \u001b[?25done\n",
      "\u001b[?25h  Created wheel for pygraphviz: filename=pygraphviz-1.14-cp312-cp312-linux_x86_64.whl size=98616 sha256=8144bafb7ed5ddc9b9bd1dc99423a6b2f2cdeb9a6f638234b1df04f75a021a0f\n",
      "  Stored in directory: /home/jupyterlab/.cache/pip/wheels/e1/2f/c3/0f7719eda975973b474b79b98e1208e635565c1e4dac777ac8\n",
      "Successfully built pygraphviz\n",
      "\u001b[33mWARNING: Ignoring invalid distribution ~ip (/opt/conda/lib/python3.12/site-packages)\u001b[0m\u001b[33m\n",
      "Installing collected packages: pygraphviz\n",
      "\u001b[33mWARNING: Ignoring invalid distribution ~ip (/opt/conda/lib/python3.12/site-packages)\u001b[0m\u001b[33m\n",
      "\u001b[0mSuccessfully installed pygraphviz-1.14\n",
      "Note: you may need to restart the kernel to use updated packages.\n"
     ]
    }
   ],
   "source": [
    "%pip install langgraph==0.3.31 \n",
    "%pip install langchain-ibm==0.3.10\n",
    "%pip install langchain==0.3.23\n",
    "%pip install langchain_community==0.3.21 \n",
    "%pip install pygraphviz==1.14"
   ]
  },
  {
   "cell_type": "code",
   "execution_count": 1,
   "id": "55758022-8c2d-416e-aa41-3817966e603b",
   "metadata": {},
   "outputs": [],
   "source": [
    "from langchain_ibm import ChatWatsonx\n",
    "from langchain_core.messages import BaseMessage, HumanMessage\n",
    "from langgraph.graph import END, MessageGraph, StateGraph\n",
    "\n",
    "from typing import List, Sequence\n",
    "from langchain_core.prompts import ChatPromptTemplate, MessagesPlaceholder"
   ]
  },
  {
   "cell_type": "code",
   "execution_count": 2,
   "id": "95300499-572a-4051-a8bf-bcd6dde63993",
   "metadata": {},
   "outputs": [],
   "source": [
    "llm = ChatWatsonx(\n",
    "    model_id=\"ibm/granite-3-3-8b-instruct\",\n",
    "    url=\"https://us-south.ml.cloud.ibm.com\",\n",
    "    project_id=\"skills-network\"\n",
    ")"
   ]
  },
  {
   "cell_type": "code",
   "execution_count": 3,
   "id": "0e9bb6b1-17e8-4030-85ad-f743fc2d3966",
   "metadata": {},
   "outputs": [],
   "source": [
    "generation_prompt = ChatPromptTemplate.from_messages(\n",
    "    [\n",
    "        (\n",
    "            \"system\",\n",
    "            \"You are a professional LinkedIn content assistant tasked with crafting engaging, insightful, and well-structured LinkedIn posts.\"\n",
    "            \" Generate the best LinkedIn post possible for the user's request.\"\n",
    "            \" If the user provides feedback or critique, respond with a refined version of your previous attempts, improving clarity, tone, or engagement as needed.\",\n",
    "        ),\n",
    "        MessagesPlaceholder(variable_name=\"messages\"),\n",
    "    ]\n",
    ")"
   ]
  },
  {
   "cell_type": "code",
   "execution_count": 4,
   "id": "83fed2b7-d9dc-4701-a4a6-e045161b6f23",
   "metadata": {},
   "outputs": [],
   "source": [
    "generate_chain = generation_prompt | llm"
   ]
  },
  {
   "cell_type": "code",
   "execution_count": 5,
   "id": "f2766187-a2e8-4848-aaea-23ac67a36cae",
   "metadata": {},
   "outputs": [],
   "source": [
    "reflection_prompt = ChatPromptTemplate.from_messages([\n",
    "    (\n",
    "        \"system\",\n",
    "        \"\"\"You are a professional LinkedIn content strategist and thought leadership expert. Your task is to critically evaluate the given LinkedIn post and provide a comprehensive critique. Follow these guidelines:\n",
    "\n",
    "        1. Assess the post’s overall quality, professionalism, and alignment with LinkedIn best practices.\n",
    "        2. Evaluate the structure, tone, clarity, and readability of the post.\n",
    "        3. Analyze the post’s potential for engagement (likes, comments, shares) and its effectiveness in building professional credibility.\n",
    "        4. Consider the post’s relevance to the author’s industry, audience, or current trends.\n",
    "        5. Examine the use of formatting (e.g., line breaks, bullet points), hashtags, mentions, and media (if any).\n",
    "        6. Evaluate the effectiveness of any call-to-action or takeaway.\n",
    "\n",
    "        Provide a detailed critique that includes:\n",
    "        - A brief explanation of the post’s strengths and weaknesses.\n",
    "        - Specific areas that could be improved.\n",
    "        - Actionable suggestions for enhancing clarity, engagement, and professionalism.\n",
    "\n",
    "        Your critique will be used to improve the post in the next revision step, so ensure your feedback is thoughtful, constructive, and practical.\n",
    "        \"\"\"\n",
    "    ),\n",
    "    MessagesPlaceholder(variable_name=\"messages\")\n",
    "])"
   ]
  },
  {
   "cell_type": "code",
   "execution_count": 6,
   "id": "c00e81f8-e0e2-4892-a4e5-5626b477681e",
   "metadata": {},
   "outputs": [],
   "source": [
    "reflect_chain = reflection_prompt | llm"
   ]
  },
  {
   "cell_type": "code",
   "execution_count": 7,
   "id": "1b496a28-4fb2-4755-92db-80045e553469",
   "metadata": {},
   "outputs": [],
   "source": [
    "from typing import List, Annotated, TypedDict\n",
    "from langchain.schema import HumanMessage, AIMessage, SystemMessage\n",
    "\n",
    "# Define State with TypedDict\n",
    "class AgentState(TypedDict):\n",
    "    messages: Annotated[List[HumanMessage | AIMessage | SystemMessage], \"add_messages\"]"
   ]
  },
  {
   "cell_type": "code",
   "execution_count": 8,
   "id": "e5140e38-635a-40df-a8d8-dc3861a71c8b",
   "metadata": {},
   "outputs": [],
   "source": [
    "from langgraph.graph import MessageGraph\n",
    "\n",
    "\n",
    "# Initialize a predefined MessageGraph\n",
    "graph = MessageGraph()"
   ]
  },
  {
   "cell_type": "code",
   "execution_count": 9,
   "id": "cef06e03-6bac-4b74-860c-2fbc193b2383",
   "metadata": {},
   "outputs": [],
   "source": [
    "def generation_node(state: Sequence[BaseMessage]) -> List[BaseMessage]:\n",
    "    generated_post = generate_chain.invoke({\"messages\": state})\n",
    "    return [AIMessage(content=generated_post.content)]"
   ]
  },
  {
   "cell_type": "code",
   "execution_count": 10,
   "id": "2e16d9b0-53da-427a-afb5-ebc05882bd57",
   "metadata": {},
   "outputs": [],
   "source": [
    "def reflection_node(messages: Sequence[BaseMessage]) -> List[BaseMessage]:\n",
    "    res = reflect_chain.invoke({\"messages\": messages})  # Passes messages as input to reflect_chain\n",
    "    return [HumanMessage(content=res.content)]  # Returns the refined message as HumanMessage for feedback"
   ]
  },
  {
   "cell_type": "code",
   "execution_count": 11,
   "id": "7a47a264-56f4-4491-8fc4-de76b07be475",
   "metadata": {},
   "outputs": [
    {
     "data": {
      "text/plain": [
       "<langgraph.graph.message.MessageGraph at 0x7cba761beff0>"
      ]
     },
     "execution_count": 11,
     "metadata": {},
     "output_type": "execute_result"
    }
   ],
   "source": [
    "graph.add_node(\"generate\", generation_node)"
   ]
  },
  {
   "cell_type": "code",
   "execution_count": 12,
   "id": "af041818-0f07-42f0-89b4-121d7c2537b8",
   "metadata": {},
   "outputs": [
    {
     "data": {
      "text/plain": [
       "<langgraph.graph.message.MessageGraph at 0x7cba761beff0>"
      ]
     },
     "execution_count": 12,
     "metadata": {},
     "output_type": "execute_result"
    }
   ],
   "source": [
    "graph.add_node(\"reflect\", reflection_node)"
   ]
  },
  {
   "cell_type": "code",
   "execution_count": 13,
   "id": "d8547b43-4015-4797-81aa-68867adedeb8",
   "metadata": {},
   "outputs": [
    {
     "data": {
      "text/plain": [
       "<langgraph.graph.message.MessageGraph at 0x7cba761beff0>"
      ]
     },
     "execution_count": 13,
     "metadata": {},
     "output_type": "execute_result"
    }
   ],
   "source": [
    "graph.add_edge(\"reflect\", \"generate\")"
   ]
  },
  {
   "cell_type": "code",
   "execution_count": 14,
   "id": "2b5b8f58-0028-4e38-a692-3a6a3e29a312",
   "metadata": {},
   "outputs": [
    {
     "data": {
      "text/plain": [
       "<langgraph.graph.message.MessageGraph at 0x7cba761beff0>"
      ]
     },
     "execution_count": 14,
     "metadata": {},
     "output_type": "execute_result"
    }
   ],
   "source": [
    "graph.set_entry_point(\"generate\")"
   ]
  },
  {
   "cell_type": "code",
   "execution_count": 15,
   "id": "3ca3682c-b8f7-4859-8943-fbf103f953a1",
   "metadata": {},
   "outputs": [],
   "source": [
    "def should_continue(state: List[BaseMessage]):\n",
    "    print(state)\n",
    "    print(len(state))\n",
    "    print(\"----------------------------------------------------------------------\")\n",
    "    if len(state) > 6:\n",
    "        return END\n",
    "    return \"reflect\""
   ]
  },
  {
   "cell_type": "code",
   "execution_count": 16,
   "id": "8de97d55-64b8-483b-bc0b-658a0d3fdbd9",
   "metadata": {},
   "outputs": [
    {
     "data": {
      "text/plain": [
       "<langgraph.graph.message.MessageGraph at 0x7cba761beff0>"
      ]
     },
     "execution_count": 16,
     "metadata": {},
     "output_type": "execute_result"
    }
   ],
   "source": [
    "graph.add_conditional_edges(\"generate\", should_continue)"
   ]
  },
  {
   "cell_type": "code",
   "execution_count": 17,
   "id": "d846a0c0-38ca-40dd-a145-bba25756c07c",
   "metadata": {},
   "outputs": [],
   "source": [
    "workflow = graph.compile()"
   ]
  },
  {
   "cell_type": "code",
   "execution_count": 18,
   "id": "e8cb09ec-b759-436f-8ac5-ee30bba40e0b",
   "metadata": {},
   "outputs": [],
   "source": [
    "inputs = HumanMessage(content=\"\"\"Write a linkedin post on getting a software developer job at IBM under 160 characters\"\"\")"
   ]
  },
  {
   "cell_type": "code",
   "execution_count": 19,
   "id": "df472439-5f63-45ef-b65e-f12c9324bfe2",
   "metadata": {},
   "outputs": [
    {
     "name": "stdout",
     "output_type": "stream",
     "text": [
      "[HumanMessage(content='Write a linkedin post on getting a software developer job at IBM under 160 characters', additional_kwargs={}, response_metadata={}, id='74df87af-1f23-4fb9-82ef-5b5c5b575137'), AIMessage(content=\"🎉 Excited to announce that I'll be joining IBM as a Software Developer! Grateful for the opportunity to work alongside industry leaders, tackle complex problems, and contribute to innovative solutions. Looking forward to this new journey! #IBM #SoftwareDevelopment #NewBeginnings\", additional_kwargs={}, response_metadata={}, id='6582111e-1a62-4d04-8067-4e87197de621')]\n",
      "2\n",
      "----------------------------------------------------------------------\n",
      "[HumanMessage(content='Write a linkedin post on getting a software developer job at IBM under 160 characters', additional_kwargs={}, response_metadata={}, id='74df87af-1f23-4fb9-82ef-5b5c5b575137'), AIMessage(content=\"🎉 Excited to announce that I'll be joining IBM as a Software Developer! Grateful for the opportunity to work alongside industry leaders, tackle complex problems, and contribute to innovative solutions. Looking forward to this new journey! #IBM #SoftwareDevelopment #NewBeginnings\", additional_kwargs={}, response_metadata={}, id='6582111e-1a62-4d04-8067-4e87197de621'), HumanMessage(content='🚀 This post showcases enthusiasm and professionalism while adhering to LinkedIn\\'s character limit. \\n\\nStrengths:\\n1. Short and concise, suited for the platform\\'s limitations.\\n2. Demonstrates clear excitement about the new opportunity, emphasizing growth and learning.\\n3. Uses relevant hashtags to improve visibility and connect with industry peers.\\n\\nAreas that could be improved:\\n1. Consider adding specific skills or aspects of IBM that make this opportunity unique or appealing to attract attention from like-minded professionals.\\n2. While the post conveys gratitude, explicitly mentioning or tagging someone involved in the hiring process might further encourage engagement and build professional relationships.\\n\\nActionable suggestions:\\n1. Mention a unique aspect of IBM\\'s work that appealed to you, e.g., \"Looking forward to contributing to IBM\\'s cutting-edge AI research as a Software Developer.\"\\n2. Tag the hiring manager or a representative from IBM to enhance visibility and encourage engagement, e.g., \"Grateful for this opportunity from @IBM and can\\'t wait to contribute to their incredible team #softwaredevelopment #iliovmigration.\"\\n\\nRevised post:\\n🎉 Thrilled to join IBM as a Software Developer, eager to contribute to their pioneering AI research and learn from industry leaders! #IBM #SoftwareDevelopment #NewBeginnings\\n\\nOr, if mentioning the hiring manager:\\n🎉 Grateful for the opportunity to join IBM\\'s Software Development team! Thrilled to work alongside this talented group of professionals, thanks to @HiringManagerName and the IBM team. #softwaredevelopment #iliovmigration', additional_kwargs={}, response_metadata={}, id='2e46594c-0fc6-4c3e-a5f6-0d0608122358'), AIMessage(content=\"🎉 Thrilled to join IBM's Software Development team, eager to contribute to their pioneering AI research and learn from industry leaders! #IBM #SoftwareDevelopment #NewBeginnings\\n\\n— OR — \\n\\n🎉 Grateful for the opportunity to join IBM's Software Development team! Thrilled to work alongside this talented group of professionals, thanks to @HiringManagerName and the IBM team. #softwaredevelopment #iliovmigration\", additional_kwargs={}, response_metadata={}, id='964239e8-a28b-4483-8b04-460b382737b5')]\n",
      "4\n",
      "----------------------------------------------------------------------\n",
      "[HumanMessage(content='Write a linkedin post on getting a software developer job at IBM under 160 characters', additional_kwargs={}, response_metadata={}, id='74df87af-1f23-4fb9-82ef-5b5c5b575137'), AIMessage(content=\"🎉 Excited to announce that I'll be joining IBM as a Software Developer! Grateful for the opportunity to work alongside industry leaders, tackle complex problems, and contribute to innovative solutions. Looking forward to this new journey! #IBM #SoftwareDevelopment #NewBeginnings\", additional_kwargs={}, response_metadata={}, id='6582111e-1a62-4d04-8067-4e87197de621'), HumanMessage(content='🚀 This post showcases enthusiasm and professionalism while adhering to LinkedIn\\'s character limit. \\n\\nStrengths:\\n1. Short and concise, suited for the platform\\'s limitations.\\n2. Demonstrates clear excitement about the new opportunity, emphasizing growth and learning.\\n3. Uses relevant hashtags to improve visibility and connect with industry peers.\\n\\nAreas that could be improved:\\n1. Consider adding specific skills or aspects of IBM that make this opportunity unique or appealing to attract attention from like-minded professionals.\\n2. While the post conveys gratitude, explicitly mentioning or tagging someone involved in the hiring process might further encourage engagement and build professional relationships.\\n\\nActionable suggestions:\\n1. Mention a unique aspect of IBM\\'s work that appealed to you, e.g., \"Looking forward to contributing to IBM\\'s cutting-edge AI research as a Software Developer.\"\\n2. Tag the hiring manager or a representative from IBM to enhance visibility and encourage engagement, e.g., \"Grateful for this opportunity from @IBM and can\\'t wait to contribute to their incredible team #softwaredevelopment #iliovmigration.\"\\n\\nRevised post:\\n🎉 Thrilled to join IBM as a Software Developer, eager to contribute to their pioneering AI research and learn from industry leaders! #IBM #SoftwareDevelopment #NewBeginnings\\n\\nOr, if mentioning the hiring manager:\\n🎉 Grateful for the opportunity to join IBM\\'s Software Development team! Thrilled to work alongside this talented group of professionals, thanks to @HiringManagerName and the IBM team. #softwaredevelopment #iliovmigration', additional_kwargs={}, response_metadata={}, id='2e46594c-0fc6-4c3e-a5f6-0d0608122358'), AIMessage(content=\"🎉 Thrilled to join IBM's Software Development team, eager to contribute to their pioneering AI research and learn from industry leaders! #IBM #SoftwareDevelopment #NewBeginnings\\n\\n— OR — \\n\\n🎉 Grateful for the opportunity to join IBM's Software Development team! Thrilled to work alongside this talented group of professionals, thanks to @HiringManagerName and the IBM team. #softwaredevelopment #iliovmigration\", additional_kwargs={}, response_metadata={}, id='964239e8-a28b-4483-8b04-460b382737b5'), HumanMessage(content='This revised LinkedIn post effectively communicates the user\\'s excitement about joining IBM as a Software Developer while adhering to the character limit and following LinkedIn best practices. \\n\\nStrengths:\\n1. Maintains conciseness while expressing enthusiasm and gratitude.\\n2. Emphasizes the opportunity to work on cutting-edge AI research, which is relevant and likely to attract attention from peers and recruiters in the software development industry.\\n3. Retains the use of relevant hashtags (#IBM, #SoftwareDevelopment, #NewBeginnings) to enhance visibility and connect with the target audience.\\n4. Provides an option to tag a hiring manager or IBM representative, promoting engagement and relationship-building.\\n\\nAreas that could still be improved:\\n1. Consider adding a sentence about the specific skills or experiences that make the user a strong fit for the role, further demonstrating their credibility and value to potential connections.\\n\\nActionable suggestions:\\n1. Incorporate a brief mention of relevant skills or experiences that make the user a strong fit for the position, e.g., \"Looking forward to applying my expertise in [specific skill/technology] to IBM\\'s AI initiatives.\"\\n\\nRevised post:\\n🎉 Looking forward to applying my expertise in [specific skill/technology] to @IBM\\'s AI initiatives as a Software Developer! Grateful for this incredible opportunity and thrilled to learn from industry leaders. #IBM #SoftwareDevelopment #NewBeginnings\\n\\nOr, if mentioning the hiring manager:\\n🎉 Grateful for the opportunity to join IBM\\'s Software Development team! Thrilled to work alongside this talented group of professionals, thanks to @HiringManagerName. Looking forward to applying my expertise in [specific skill/technology] to their pioneering AI research. #softwaredevelopment #iliovmigration', additional_kwargs={}, response_metadata={}, id='39d52dd2-a1e1-4407-bdd8-138ffe5662bc'), AIMessage(content=\"🎉 Looking forward to applying my expertise in #MachineLearning to @IBM's AI initiatives as a Software Developer! Grateful for this incredible opportunity and thrilled to learn from industry leaders. #IBM #SoftwareDevelopment #NewBeginnings\\n\\n— OR — \\n\\n🎉 Grateful for the opportunity to join IBM's Software Development team! Thrilled to work alongside this talented group, thanks to @HiringManagerName. Looking forward to applying my #MachineLearning expertise to their pioneering #AI research. #softwaredevelopment #iliovmigration\", additional_kwargs={}, response_metadata={}, id='910a92ce-080e-493b-9526-387d3aaa742a')]\n",
      "6\n",
      "----------------------------------------------------------------------\n",
      "[HumanMessage(content='Write a linkedin post on getting a software developer job at IBM under 160 characters', additional_kwargs={}, response_metadata={}, id='74df87af-1f23-4fb9-82ef-5b5c5b575137'), AIMessage(content=\"🎉 Excited to announce that I'll be joining IBM as a Software Developer! Grateful for the opportunity to work alongside industry leaders, tackle complex problems, and contribute to innovative solutions. Looking forward to this new journey! #IBM #SoftwareDevelopment #NewBeginnings\", additional_kwargs={}, response_metadata={}, id='6582111e-1a62-4d04-8067-4e87197de621'), HumanMessage(content='🚀 This post showcases enthusiasm and professionalism while adhering to LinkedIn\\'s character limit. \\n\\nStrengths:\\n1. Short and concise, suited for the platform\\'s limitations.\\n2. Demonstrates clear excitement about the new opportunity, emphasizing growth and learning.\\n3. Uses relevant hashtags to improve visibility and connect with industry peers.\\n\\nAreas that could be improved:\\n1. Consider adding specific skills or aspects of IBM that make this opportunity unique or appealing to attract attention from like-minded professionals.\\n2. While the post conveys gratitude, explicitly mentioning or tagging someone involved in the hiring process might further encourage engagement and build professional relationships.\\n\\nActionable suggestions:\\n1. Mention a unique aspect of IBM\\'s work that appealed to you, e.g., \"Looking forward to contributing to IBM\\'s cutting-edge AI research as a Software Developer.\"\\n2. Tag the hiring manager or a representative from IBM to enhance visibility and encourage engagement, e.g., \"Grateful for this opportunity from @IBM and can\\'t wait to contribute to their incredible team #softwaredevelopment #iliovmigration.\"\\n\\nRevised post:\\n🎉 Thrilled to join IBM as a Software Developer, eager to contribute to their pioneering AI research and learn from industry leaders! #IBM #SoftwareDevelopment #NewBeginnings\\n\\nOr, if mentioning the hiring manager:\\n🎉 Grateful for the opportunity to join IBM\\'s Software Development team! Thrilled to work alongside this talented group of professionals, thanks to @HiringManagerName and the IBM team. #softwaredevelopment #iliovmigration', additional_kwargs={}, response_metadata={}, id='2e46594c-0fc6-4c3e-a5f6-0d0608122358'), AIMessage(content=\"🎉 Thrilled to join IBM's Software Development team, eager to contribute to their pioneering AI research and learn from industry leaders! #IBM #SoftwareDevelopment #NewBeginnings\\n\\n— OR — \\n\\n🎉 Grateful for the opportunity to join IBM's Software Development team! Thrilled to work alongside this talented group of professionals, thanks to @HiringManagerName and the IBM team. #softwaredevelopment #iliovmigration\", additional_kwargs={}, response_metadata={}, id='964239e8-a28b-4483-8b04-460b382737b5'), HumanMessage(content='This revised LinkedIn post effectively communicates the user\\'s excitement about joining IBM as a Software Developer while adhering to the character limit and following LinkedIn best practices. \\n\\nStrengths:\\n1. Maintains conciseness while expressing enthusiasm and gratitude.\\n2. Emphasizes the opportunity to work on cutting-edge AI research, which is relevant and likely to attract attention from peers and recruiters in the software development industry.\\n3. Retains the use of relevant hashtags (#IBM, #SoftwareDevelopment, #NewBeginnings) to enhance visibility and connect with the target audience.\\n4. Provides an option to tag a hiring manager or IBM representative, promoting engagement and relationship-building.\\n\\nAreas that could still be improved:\\n1. Consider adding a sentence about the specific skills or experiences that make the user a strong fit for the role, further demonstrating their credibility and value to potential connections.\\n\\nActionable suggestions:\\n1. Incorporate a brief mention of relevant skills or experiences that make the user a strong fit for the position, e.g., \"Looking forward to applying my expertise in [specific skill/technology] to IBM\\'s AI initiatives.\"\\n\\nRevised post:\\n🎉 Looking forward to applying my expertise in [specific skill/technology] to @IBM\\'s AI initiatives as a Software Developer! Grateful for this incredible opportunity and thrilled to learn from industry leaders. #IBM #SoftwareDevelopment #NewBeginnings\\n\\nOr, if mentioning the hiring manager:\\n🎉 Grateful for the opportunity to join IBM\\'s Software Development team! Thrilled to work alongside this talented group of professionals, thanks to @HiringManagerName. Looking forward to applying my expertise in [specific skill/technology] to their pioneering AI research. #softwaredevelopment #iliovmigration', additional_kwargs={}, response_metadata={}, id='39d52dd2-a1e1-4407-bdd8-138ffe5662bc'), AIMessage(content=\"🎉 Looking forward to applying my expertise in #MachineLearning to @IBM's AI initiatives as a Software Developer! Grateful for this incredible opportunity and thrilled to learn from industry leaders. #IBM #SoftwareDevelopment #NewBeginnings\\n\\n— OR — \\n\\n🎉 Grateful for the opportunity to join IBM's Software Development team! Thrilled to work alongside this talented group, thanks to @HiringManagerName. Looking forward to applying my #MachineLearning expertise to their pioneering #AI research. #softwaredevelopment #iliovmigration\", additional_kwargs={}, response_metadata={}, id='910a92ce-080e-493b-9526-387d3aaa742a'), HumanMessage(content=\"🎉 Excited to bring my #MachineLearning expertise to @IBM's Software Development team! Grateful for this chance to collaborate with industry leaders and contribute to groundbreaking AI projects. #IBM #SoftwareDevelopment #NewBeginnings\\n\\n— OR — \\n\\n🎉 Thank you, @HiringManagerName, for the opportunity to join IBM's Software Development team! I look forward to applying my #MachineLearning skills to their cutting-edge AI research and learning from this esteemed group. #softwaredevelopment #iliovmigration\", additional_kwargs={}, response_metadata={}, id='9d77a637-2bf7-4151-9290-b6cef6319074'), AIMessage(content=\"🎉 Excited to bring my #MachineLearning expertise to @IBM's Software Development team! Grateful for this chance to collaborate with industry leaders and contribute to groundbreaking AI projects. #IBM #SoftwareDevelopment #NewBeginnings\\n\\n— OR — \\n\\n🎉 Thank you, @HiringManagerName, for the opportunity to join IBM's Software Development team! I look forward to applying my #MachineLearning skills to their cutting-edge AI research and learning from this esteemed group. #softwaredevelopment #iliovmigration \\n\\nBoth versions now present a balanced, engaging, and professional LinkedIn post that highlights the user's enthusiasm, relevant skills, and gratitude while adhering to LinkedIn's character limit. The posts are more likely to attract attention from both peers and recruiters in the software development industry by mentioning the user's expertise in Machine Learning and acknowledging their opportunity to collaborate with industry leaders at IBM.\", additional_kwargs={}, response_metadata={}, id='dbcc78f8-459b-4a87-9d12-5d5252a76566')]\n",
      "8\n",
      "----------------------------------------------------------------------\n"
     ]
    }
   ],
   "source": [
    "response = workflow.invoke(inputs)"
   ]
  },
  {
   "cell_type": "code",
   "execution_count": 20,
   "id": "87f9b030-bcd6-49c5-9f62-6560b521f2df",
   "metadata": {},
   "outputs": [
    {
     "data": {
      "text/plain": [
       "\"🎉 Excited to bring my #MachineLearning expertise to @IBM's Software Development team! Grateful for this chance to collaborate with industry leaders and contribute to groundbreaking AI projects. #IBM #SoftwareDevelopment #NewBeginnings\\n\\n— OR — \\n\\n🎉 Thank you, @HiringManagerName, for the opportunity to join IBM's Software Development team! I look forward to applying my #MachineLearning skills to their cutting-edge AI research and learning from this esteemed group. #softwaredevelopment #iliovmigration \\n\\nBoth versions now present a balanced, engaging, and professional LinkedIn post that highlights the user's enthusiasm, relevant skills, and gratitude while adhering to LinkedIn's character limit. The posts are more likely to attract attention from both peers and recruiters in the software development industry by mentioning the user's expertise in Machine Learning and acknowledging their opportunity to collaborate with industry leaders at IBM.\""
      ]
     },
     "execution_count": 20,
     "metadata": {},
     "output_type": "execute_result"
    }
   ],
   "source": [
    "response[-1].content"
   ]
  },
  {
   "cell_type": "code",
   "execution_count": 21,
   "id": "682fe130-080c-434f-bc63-728f12c86068",
   "metadata": {},
   "outputs": [
    {
     "data": {
      "image/png": "[encoded data removed]",
      "text/plain": [
       "<IPython.core.display.Image object>"
      ]
     },
     "metadata": {},
     "output_type": "display_data"
    }
   ],
   "source": [
    "from IPython.display import Image, display\n",
    "\n",
    "display(Image(workflow.get_graph().draw_png()))"
   ]
  },
  {
   "cell_type": "code",
   "execution_count": null,
   "id": "92fd41b1-7304-4b2f-b91a-74db4f113ceb",
   "metadata": {},
   "outputs": [],
   "source": []
  }
 ],
 "metadata": {
  "kernelspec": {
   "display_name": "Python 3 (ipykernel)",
   "language": "python",
   "name": "python3"
  },
  "language_info": {
   "codemirror_mode": {
    "name": "ipython",
    "version": 3
   },
   "file_extension": ".py",
   "mimetype": "text/x-python",
   "name": "python",
   "nbconvert_exporter": "python",
   "pygments_lexer": "ipython3",
   "version": "3.12.8"
  }
 },
 "nbformat": 4,
 "nbformat_minor": 5
}
